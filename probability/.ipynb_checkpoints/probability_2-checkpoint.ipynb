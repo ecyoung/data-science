{
 "cells": [
  {
   "cell_type": "markdown",
   "metadata": {},
   "source": [
    "# Probability 2\n",
    "In this exercise, you will demonstrate your learning by solving probability problems. Many of these will be math problems. You can write your answers in Markdown cells. Recall that you can use LaTeX to nicely format your math inside Markdown cellsby enclosing equations in single dollar signs (e.g., $x^2+4=8$) for inline math or double dollar signs for centered equations like $$P(X > 5) = \\frac{1}{6}.$$\n",
    "\n",
    "For a reference if you are new to LaTeX, see the [overleaf documentation for mathematical expressions](https://www.overleaf.com/learn/latex/mathematical_expressions). Some particular LaTeX commands you might find useful include:\n",
    "- To write a fraction, use `\\frac{numerator}{denominator}` like $\\frac{3}{4}$\n",
    "- To write set intersection and union use `\\cap` and `\\cup` respectively like $A \\cap B$ and $A \\cup B$.\n",
    "- To write a bar over something (like a set complement) use `\\overline{}` like in $\\overline{E}$.\n",
    "- To write a subscript or superscript, use `_{}` or `^{}` as in $X_{n}$ or $X^{2}$.\n",
    "- To write a sum or product, use `\\sum` or `\\prod` as in $\\sum_{i=1}^{n} X_i$ or $\\prod_{i=1}^{n} X_i$."
   ]
  },
  {
   "cell_type": "markdown",
   "metadata": {},
   "source": [
    "### Question 1\n",
    "Suppose 600 individuals are on a cruise. Of the individuals:\n",
    "- 300 go snorkling\n",
    "- 450 have lunch at the restaurant\n",
    "- 200 go dancing \n",
    "- 200 go snorkling and have lunch at the restaurant\n",
    "- 100 go snorkling and go dancing\n",
    "- 100 have lunch at the restaurant and go dancing\n",
    "- 50 go snorkling, have lunch at the restaurant, and go dancing\n",
    "\n",
    "For each of the following, compute the probability that an individual chosen uniformly at random:\n",
    "1. goes snorkling and has lunch at the restaurant\n",
    "2. does not have lunch at the restaurant\n",
    "3. goes snorkling or goes dancing\n",
    "4. has lunch at the restaurant but does not go snorkling \n",
    "5. goes dancing given that they have lunch at the restaurant"
   ]
  },
  {
   "cell_type": "markdown",
   "metadata": {},
   "source": [
    "### Answer 1\n",
    "Let S = go snorkeling, L = have lunch at the restaurant, D = go dancing\n",
    "1. P(S and L) = 200/600 = 1/3 = 0.33\n",
    "2. P(!L) = 1-(450/600) = 150/600 = 1/4 = 0.25\n",
    "3. P(S or D) = P(S) + P(D) - P(S and D) = 300/600 + 200/600 - 100/600 = 400/600 = 2/3 = 0.66\n",
    "4. P(L and !S) = P(L) - P(S and L) = 450/600 - 200/600 = 250/600 = 5/12 = 0.4166\n",
    "5. P(D | L) = P(L and D) / P(L) = (100/600)/(450/600) = 2/9 = 0.2222"
   ]
  },
  {
   "cell_type": "markdown",
   "metadata": {},
   "source": [
    "### Question 2\n",
    "1. Consider a rare genetic disorder that occurs with 5\\% probability. Individuals with the genetic disorder have a 60\\% probability to develop a particular medical condition whereas individuals without the disorder only have a 10\\% probability to develop the medical condition. What is the probably that a random individual from the entire population will develop the medical condition?\n",
    "2. Suppose that for a random student, there is an 80\\% probability of passing the final exam, a 90\\% chance of passing the course, and a 99\\% of passing the course given that the student passes the final exam. Given that a student passed the course, what is the probability that the student did not pass the final exam?  \n",
    "3. Suppose that 10\\% of the cars produced on an assembly line have some defect. The car manufacturer has a test for checking for defects and for cars with defects, it correctly finds the defect with 99\\% probability. However, for cars without defects, the test incorrectly reports a defect with 5\\% probability.  What is the probability that a car has no defect given that the test reports that it has a defect?"
   ]
  },
  {
   "cell_type": "markdown",
   "metadata": {},
   "source": [
    "### Answer 2\n",
    "1. P(GD) = 0.05, P(MC | GD) = 0.6, P(MC | !GD) = 0.1\n",
    "- Knowing that P(GD) = 0.05, we can use the complement rule to find that P(!GD) = 1-P(GD) = 0.95\n",
    "- P(MC) = P(MC | GD) * P(GD) + P(MC | !GD) * P(!GD) = 0.6 * 0.05 + 0.1 * 0.95 = 0.125\n",
    "- Ans: 12.5% (or 0.125)\n",
    "2. Let F = passing the final exam, C = passing the course\n",
    "- P(F) = 0.8, P(C) = 0.9, P(C | F) = 0.99\n",
    "- P(!F) = 0.2, P(!C) = 0.1, P(C and F) = P(C | F) * P(F) = 0.99 * 0.8 = 0.792\n",
    "- P(C) = P(C and F) + P(C and !F) = 0.792 + P(C and !F) = 0.9 \n",
    "- P(C and !F) = 0.108\n",
    "- P(!F | C) = P(C and !F) / P(C) = 0.108/0.9 = 0.12\n",
    "- Ans: 12% (or 0.12)\n",
    "3. Let D = cars produced on an assembly line having some defect, P = test finding defect\n",
    "- P(D) = 0.1, P(P | D) = 0.99, P(P | !D) = 0.05\n",
    "- P(!D) = 0.9\n",
    "- P(!D | P) = P(P and !D) / P(P) = (P(P | !D) * P(!D)) / (P(P | D) * P(D) + P(P | !D) * P(!D)) = (0.05 * 0.9) / (0.99 * 0.1 + 0.05 * 0.9) =  0.3125\n",
    "- Ans: 31.25% (or 0.3125)"
   ]
  },
  {
   "cell_type": "markdown",
   "metadata": {},
   "source": [
    "### Question 3\n",
    "1. Suppose you are playing a game of chance. You roll a single fair 6-sided die. If the result is odd, you win a number of dollars equal to the die roll. If the result is even, you lose a number of dollars equal to the die roll. What is the expected number of dollars you will win or lose playing this game once? \n",
    "2. You play another game of chance. It proceeds in three rounds. In each round you roll a single fair 6-sided die. In the first round, if you roll a 1 you get \\\\$1. In the second round if you roll a 2 you get \\\\$2. In the third round if you roll a 3 you get \\\\$3. If at the end you have not won any of the three rounds, you lose \\\\$3. What is the expected number of dollars you will win or lose playing this game once?"
   ]
  },
  {
   "cell_type": "markdown",
   "metadata": {},
   "source": [
    "### Answer 3\n",
    "1. E(dollars won playing game) = (1/2) * ((1+3+5)/3) + (1/2) * -((2+4+6)/3)= -0.5\n",
    "- Ans: You are expected to lose 0.5 dollars playing this game once\n",
    "2. E(dollars won playing game) = (1/6) * 1 + (1/6) * 2 + (1/6) * 3 + (5/6)^3 * -3 = -0.7361\n",
    "- Ans: You are expected to lose 0.7361 dollars playing this game once"
   ]
  },
  {
   "cell_type": "markdown",
   "metadata": {},
   "source": [
    "### Question 4\n",
    "Suppose you toss a coin $n$ times and observe that 51\\% of the time the result is heads. Assuming $n$ is large enough to use the central limit theorem, how large would $n$ need to be before you could conclude that the probability that the coin is fair (50/50 percent chance of heads or tails) is at most 5\\%? *Hint*: To calculate this it may help to define an appropriate random variable whose expectation is the quantity of interest based on a fair coin toss and calculate its variance."
   ]
  },
  {
   "cell_type": "markdown",
   "metadata": {},
   "source": [
    "### Answer 4\n",
    "- variance = npq = n * (1/2) * (1/2) = (1/4)n since the problem follows a binomial distribution \n",
    "- 1.96 = sqrt(n) * (0.51n-0.5n)/((1/2)sqrt(n))\n",
    "- n = 98\n",
    "- Ans: 98"
   ]
  },
  {
   "cell_type": "markdown",
   "metadata": {},
   "source": [
    "### Question 5\n",
    "In the US presidential election, there are typically two candidates: a Democratic candidate and a Republican candidate. Each state has a number of electoral college votes. The candidate who wins the most votes in a state receives all of the electoral college votes for that particular state (there are a couple of exceptions, but to keep things simple we will assume this is how it works for all states). A candidate who wins at least 270 electoral college votes wins the national election. \n",
    "\n",
    "#### *The Data*\n",
    "Below we import the `polls.csv` dataset describing the 2020 US presidential election and preview the first few rows. For each of the 50 states in the USA plus Washington D.C. (which has electoral college votes like a state), the dataset records:\n",
    "- `d_percent`: The percent of polled voters indicating they will vote for the Democratic candidate in the 2020 presidential election.\n",
    "- `r_percent`: The percent of polled voters indicating they will vote for the Republican candidate in the 2020 presidential election.\n",
    "- `ec_weight`: The number of electoral college votes controlled by the particular state.  \n",
    "\n",
    "#### *What you will do*\n",
    "**In this question, you will write a Monte Carlo simulation to understand the probabilities of the following three events.** This is based roughly on the idea of computational models for predicting election outcomes such as those you may have seen recently in the news. \n",
    "- $D$: the Democratic candidate wins at least 270 electoral college votes (and thus the presidential election)\n",
    "- $R$: the Republican candidate wins at least 270 electoral college votes (and thus the presidential election) \n",
    "- $U$: neither candidate gets 270 electoral college votes and the election is undecided.\n",
    " \n",
    "#### *How you will do it*\n",
    "To do so, model the uncertainty in the poll numbers as follows. \n",
    "1. For each simulation, for each state independently, draw 0-mean normally distributed random `noise` for a given standard deviation estimate $\\sigma$. You can do so, for example, using [numpy.random.normal](https://numpy.org/doc/stable/reference/random/generated/numpy.random.normal.html). This reflects the assumption that the poll numbers are not certain and could vary in either direction by one or two standard deviations.\n",
    "2. Add `noise` (independently for each state) to `d_percent` and subtract `noise` from `r_percent`. So if you get `noise = 1.5`, `d_percent = 42`, and `r_percent = 57` you would get `43.5` for the new `d_percent` and `55.5` for the new `r_percent`. \n",
    "\n",
    "Then for a given simulation you can check which of $D$, $R$, or $U$ occur by checking, for each state, which candidate gets a larger share of the vote, and adding up their electoral votes accross all of the states. Make sure that each simulation starts with the original values from the `polls` dataset not the results from the previous simulation. \n",
    "\n",
    "Code the simulation and then **run 10,000 simulations for each of the following values of $\\sigma$: 1, 5, and 10. For each, report the empirical probability of the events $D$, $R$, and $U$.** You should therefore report a total of 9 values. It may take a few seconds for your simulations to run, but if they are running for minutes, you are likely writing inefficient loops instead of taking advantage of efficient Pandas and Numpy operations. You will need one loop over the 10,000 simulations but should not need any others.\n",
    "\n",
    "Hint: We **strongly recommend** you write a function that runs and returns the results of a single simulation. It’ll make your code easier to write and understand."
   ]
  },
  {
   "cell_type": "code",
   "execution_count": 1,
   "metadata": {},
   "outputs": [
    {
     "data": {
      "text/html": [
       "<div>\n",
       "<style scoped>\n",
       "    .dataframe tbody tr th:only-of-type {\n",
       "        vertical-align: middle;\n",
       "    }\n",
       "\n",
       "    .dataframe tbody tr th {\n",
       "        vertical-align: top;\n",
       "    }\n",
       "\n",
       "    .dataframe thead th {\n",
       "        text-align: right;\n",
       "    }\n",
       "</style>\n",
       "<table border=\"1\" class=\"dataframe\">\n",
       "  <thead>\n",
       "    <tr style=\"text-align: right;\">\n",
       "      <th></th>\n",
       "      <th>state</th>\n",
       "      <th>d_percent</th>\n",
       "      <th>r_percent</th>\n",
       "      <th>ec_weight</th>\n",
       "    </tr>\n",
       "  </thead>\n",
       "  <tbody>\n",
       "    <tr>\n",
       "      <th>0</th>\n",
       "      <td>alabama</td>\n",
       "      <td>37</td>\n",
       "      <td>62</td>\n",
       "      <td>9</td>\n",
       "    </tr>\n",
       "    <tr>\n",
       "      <th>1</th>\n",
       "      <td>alaska</td>\n",
       "      <td>44</td>\n",
       "      <td>55</td>\n",
       "      <td>3</td>\n",
       "    </tr>\n",
       "    <tr>\n",
       "      <th>2</th>\n",
       "      <td>arizona</td>\n",
       "      <td>50</td>\n",
       "      <td>49</td>\n",
       "      <td>11</td>\n",
       "    </tr>\n",
       "    <tr>\n",
       "      <th>3</th>\n",
       "      <td>arkansas</td>\n",
       "      <td>35</td>\n",
       "      <td>64</td>\n",
       "      <td>6</td>\n",
       "    </tr>\n",
       "    <tr>\n",
       "      <th>4</th>\n",
       "      <td>california</td>\n",
       "      <td>64</td>\n",
       "      <td>35</td>\n",
       "      <td>55</td>\n",
       "    </tr>\n",
       "  </tbody>\n",
       "</table>\n",
       "</div>"
      ],
      "text/plain": [
       "        state  d_percent  r_percent  ec_weight\n",
       "0     alabama         37         62          9\n",
       "1      alaska         44         55          3\n",
       "2     arizona         50         49         11\n",
       "3    arkansas         35         64          6\n",
       "4  california         64         35         55"
      ]
     },
     "execution_count": 1,
     "metadata": {},
     "output_type": "execute_result"
    }
   ],
   "source": [
    "import pandas as pd\n",
    "polls = pd.read_csv(\"polls.csv\")\n",
    "polls.head()"
   ]
  },
  {
   "cell_type": "code",
   "execution_count": 2,
   "metadata": {},
   "outputs": [],
   "source": [
    "import numpy as np"
   ]
  },
  {
   "cell_type": "code",
   "execution_count": 3,
   "metadata": {},
   "outputs": [],
   "source": [
    "# monte carlo simulation function\n",
    "def simulate(numRolls, std):\n",
    "    polls_copy = polls.copy()\n",
    "    D = 0\n",
    "    R = 0\n",
    "    U = 0\n",
    "    threshold = 270\n",
    "    for i in range(numRolls):\n",
    "        d_votes = 0\n",
    "        r_votes = 0\n",
    "        for index, row in polls_copy.iterrows():\n",
    "            noise = np.random.normal(0, std, 1)\n",
    "            row['d_percent'] = row['d_percent'] + noise\n",
    "            row['r_percent'] = row['r_percent'] - noise\n",
    "            if (row['d_percent'] > row['r_percent']):\n",
    "                d_votes += row['ec_weight']\n",
    "            else:\n",
    "                r_votes += row['ec_weight']\n",
    "        if d_votes > threshold:\n",
    "            D += 1\n",
    "        elif r_votes > threshold:\n",
    "            R += 1\n",
    "        else:\n",
    "            U += 1\n",
    "    return [D/numRolls, R/numRolls, U/numRolls]"
   ]
  },
  {
   "cell_type": "code",
   "execution_count": 4,
   "metadata": {},
   "outputs": [],
   "source": [
    "np.random.seed(0)\n",
    "numRolls = 10000 # 10,000 simulations"
   ]
  },
  {
   "cell_type": "code",
   "execution_count": 5,
   "metadata": {},
   "outputs": [
    {
     "name": "stdout",
     "output_type": "stream",
     "text": [
      "[0.8932, 0.0589, 0.0479]\n"
     ]
    }
   ],
   "source": [
    "print(simulate(numRolls, 1))"
   ]
  },
  {
   "cell_type": "code",
   "execution_count": 6,
   "metadata": {},
   "outputs": [
    {
     "name": "stdout",
     "output_type": "stream",
     "text": [
      "[0.8138, 0.1587, 0.0275]\n"
     ]
    }
   ],
   "source": [
    "print(simulate(numRolls, 5))"
   ]
  },
  {
   "cell_type": "code",
   "execution_count": 7,
   "metadata": {},
   "outputs": [
    {
     "name": "stdout",
     "output_type": "stream",
     "text": [
      "[0.7369, 0.2387, 0.0244]\n"
     ]
    }
   ],
   "source": [
    "print(simulate(numRolls, 10))"
   ]
  },
  {
   "cell_type": "markdown",
   "metadata": {},
   "source": [
    "### Answer 5\n",
    "Run 10,000 simulations for each of the following values of σ: 1, 5, and 10. For each, report the empirical probability of the events D, R, and U:\n",
    "1. σ = 1: P(D) = 0.8932, P(R) = 0.0589, P(U) = 0.0479\n",
    "2. σ = 5: P(D) = 0.8138, P(R) = 0.1587, P(U) = 0.0275\n",
    "3. σ = 10: P(D) = 0.7369, P(R) = 0.2387, P(U) = 0.0244\n"
   ]
  }
 ],
 "metadata": {
  "kernelspec": {
   "display_name": "Python 3",
   "language": "python",
   "name": "python3"
  },
  "language_info": {
   "codemirror_mode": {
    "name": "ipython",
    "version": 3
   },
   "file_extension": ".py",
   "mimetype": "text/x-python",
   "name": "python",
   "nbconvert_exporter": "python",
   "pygments_lexer": "ipython3",
   "version": "3.8.8"
  }
 },
 "nbformat": 4,
 "nbformat_minor": 4
}
