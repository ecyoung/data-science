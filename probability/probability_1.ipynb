{
 "cells": [
  {
   "cell_type": "markdown",
   "metadata": {},
   "source": [
    "# Probability 1\n",
    "In this exercise, you will practice solving probability problems. Many of these will be math problems. You can write your answers in Markdown cells. Recall that you can use LaTeX to nicely format your math inside Markdown cellsby enclosing equations in single dollar signs (e.g., $x^2+4=8$) for inline math or double dollar signs for centered equations like $$P(X > 5) = \\frac{1}{6}.$$\n",
    "\n",
    "For a reference if you are new to LaTeX, see the [overleaf documentation for mathematical expressions](https://www.overleaf.com/learn/latex/mathematical_expressions). Some particular LaTeX commands you might find useful include:\n",
    "- To write a fraction, use `\\frac{numerator}{denominator}` like $\\frac{3}{4}$\n",
    "- To write set intersection and union use `\\cap` and `\\cup` respectively like $A \\cap B$ and $A \\cup B$.\n",
    "- To write a bar over something (like a set complement) use `\\overline{}` like in $\\overline{E}$.\n",
    "- To write a subscript or superscript, use `_{}` or `^{}` as in $X_{n}$ or $X^{2}$.\n",
    "- To write a sum or product, use `\\sum` or `\\prod` as in $\\sum_{i=1}^{n} X_i$ or $\\prod_{i=1}^{n} X_i$.\n",
    "\n",
    "An example of the level of explanation we are expecting is if we asked you to calculate the probability that a dice roll is even or > 3 (like in the videos), we'd first expect a translation to probabilistic terms and then transformations until you find the number like so:\n",
    "\n",
    "$$ P(even \\cup roll > 3) = P(even \\cup roll > 3) $$\n",
    "$$ =P(even) + P(roll > 3) - P(even \\cap roll > 3) $$\n",
    "$$ = \\frac{1}{2} + \\frac{1}{2} - \\frac{1}{3} $$\n",
    "$$ =\\frac{2}{3} $$"
   ]
  },
  {
   "cell_type": "markdown",
   "metadata": {},
   "source": [
    "### Question 1\n",
    "Suppose we roll a single fair six-sided die (meaning we get a number from 1 to 6 drawn uniformly at random) and toss a single fair coin (meaning we get heads or tails each with 50% probability). For each of the following events, what is the probability of the event?\n",
    "\n",
    "1. An odd die roll and coin toss of heads.\n",
    "2. A die roll greater than or equal to 4 and anything for the coin.\n",
    "3. A coin toss of tails and anything for the die.\n",
    "4. A die roll greater than or equal to 3 or a coin toss of tails (possibly both)."
   ]
  },
  {
   "cell_type": "markdown",
   "metadata": {},
   "source": [
    "1. \n",
    "- Let A = odd die roll, B = coin toss of heads\n",
    "- P(A) = 1/2\n",
    "- P(B) = 1/2\n",
    "- Since the two events are independent, P(A and B) = P(A) * P(B) = (1/2)x(1/2) = 1/4\n",
    "- Ans: 0.25 (or 1/4)\n",
    "\n",
    "2. \n",
    "- Let A = die roll greater than or equal to 4, B = anything for the coin \n",
    "- P(A) = 1/2\n",
    "- P(B) = 1\n",
    "- Since the two events are independent, P(A and B) = P(A) * P(B) = (1/2)x(1) = 1/2\n",
    "- Ans: 0.5 (or 1/2)\n",
    "\n",
    "3. \n",
    "- Let A = coin toss of tails, B = anything for the die\n",
    "- P(A) = 1/2\n",
    "- P(B) = 1\n",
    "- Since the two events are independent, P(A and B) = P(A) * P(B) = (1/2)x(1) = 1/2\n",
    "- Ans: 0.5 (or 1/2)\n",
    "\n",
    "4. \n",
    "- Let A = die roll greater than or equal to 3, B = coin toss of tails \n",
    "- P(A) = 4/6 = 2/3\n",
    "- P(B) = 1/2\n",
    "- P(A and B) = P(A) * P(B) = (2/3)x(1/2) = 1/3\n",
    "- Since the two events are not mutually exclusive, P(A or B) = P(A) + P(B) - P(A and B) = (2/3) + (1/2) - (1/3) = 5/6\n",
    "- Ans: 0.83 (or 5/6)"
   ]
  },
  {
   "cell_type": "markdown",
   "metadata": {},
   "source": [
    "### Question 2\n",
    "Assume 500 students enrolled in both Calculus and Physics. Of these students,\n",
    "- 82 got an A in calculus, \n",
    "- 73 got an A in physics, and \n",
    "- 42 got an A in both courses.\n",
    "\n",
    "For each of the following, compute the probability that student chosen uniformly at random:\n",
    "1. Got an A in both courses\n",
    "2. Got less than an A in at least one of the two courses\n",
    "3. Got an A in calculus but not in physics\n",
    "4. Got an A in at least one of the two courses"
   ]
  },
  {
   "cell_type": "markdown",
   "metadata": {},
   "source": [
    "Let C = A in calculus, P = A in physics\n",
    "1. \n",
    "- P(C and P) = 42/500\n",
    "- Ans: 0.084 (or 42/500)\n",
    "\n",
    "2. \n",
    "- P(!C or !P) = P(!(C and P)) = 458/500\n",
    "- Ans: 0.916 (458/500)\n",
    "\n",
    "3. \n",
    "- P(C and !P) = P(C) - P(C and P) = (82/500) - (42/500) = 40/500 \n",
    "- Ans: 0.08 (40/500)\n",
    "\n",
    "4. \n",
    "- P(C or P) = P(C) + P(P) - P(C and P) = (82/500) + (73/500) - (42/400) = 113/500\n",
    "- Ans: 0.226 (113/500)"
   ]
  },
  {
   "cell_type": "markdown",
   "metadata": {},
   "source": [
    "### Question 3\n",
    "Consider a certain disease. Suppose that the probability $P(D)$ that a random person has the disease is 1% or 0.01.\n",
    "\n",
    "1. Suppose the probability $P(T)$ that a random person gets tested for the disease is 20% or 0.2. Also, suppose the probability $P(D \\cap T)$ that someone has the disease and gets tested is 0.5% or 0.005. What is the probability $P(D \\mid T)$ that a random person has the disease given that they get tested?\n",
    "2. Suppose the test is not 100% accurate. In particular, the probability $P(pos \\mid D)$ of a positive test result given you have the disease is 95% or 0.95. The probability $P(pos \\mid \\overline{D})$ of a positive test result given you do not have the disease is 10% or 0.1. Suppose a random person takes the test. What is the probability $P(pos)$ that they test positive? \n",
    "3. What is the probability $P(D \\mid pos)$ that a random person has the disease given that they test positive?"
   ]
  },
  {
   "cell_type": "markdown",
   "metadata": {},
   "source": [
    "1. \n",
    "- P(D given T) = P(D and T) / P(T) = 0.005/0.2 = 0.025\n",
    "- Ans: 2.5% \n",
    "\n",
    "2. \n",
    "- P(pos) = P(pos given D) * P(D) + P(pos given !D) * P(!D) = 0.95 * 0.01 + 0.1 * 0.99 = 0.1085\n",
    "- Ans: 10.85%\n",
    "\n",
    "3. P(D given pos) = P(D and pos) / P(pos) = (P(pos given D) * P(D)) / P(pos) = (0.95 * 0.01) / 0.1085 = 0.08756\n",
    "- Ans: 8.76%"
   ]
  },
  {
   "cell_type": "markdown",
   "metadata": {},
   "source": [
    "### Question 4\n",
    "\n",
    "Suppose a student is taking a 50-question multiple-choice exam with 4 answer choices per question. For each question, the probability that the student knows the correct answer is 80%. The student correctly answers these questions, and guesses uniformly at random on the other questions.\n",
    "\n",
    "1. For a single quesiton, what is the student's expected score if correct answers get 2 points and incorrect answers get 0 points?\n",
    "2. What is the student's expected overall score on all 50 questions if correct answers get 2 points and incorrect answers are penalized with 0.5 negative points?"
   ]
  },
  {
   "cell_type": "markdown",
   "metadata": {},
   "source": [
    "1. Let K = knows correct answer, C = correct answer \n",
    "- P(K) = 0.8, P(!K) = 0.2\n",
    "- If K, then P(C) = 1; If !K, then P(C) = 1/4\n",
    "- E(ppq given K) = 2, E(ppq given !K) = 0.5\n",
    "- E(ppq) = 0.8 * 2 + 0.2 * 0.5 = 1.6 + 0.1 = 1.7\n",
    "- Ans: 1.7\n",
    "\n",
    "2. Modify E(ppq given !K) = (1/4) * 2 + (3/4) * -0.5 = 0.5 - 0.375 = 0.125\n",
    "- E(ppq) = 0.8 * 2 + 0.2 * 0.125 = 1.625\n",
    "- E(score) = 1.625 * 50 = 81.25\n",
    "- Ans: 81.25"
   ]
  },
  {
   "cell_type": "markdown",
   "metadata": {},
   "source": [
    "### Question 5\n",
    "To simplify this problem, assume that a year has twelve equal duration months, rather than the unequal months as in the standard Gregorian calendar. \n",
    "\n",
    "1. Assuming that people are equally likely to be born in any month, how many people must be selected independently and uniformly at random before the probability that at least two of the selected people have the same birth month is at least 1/2?\n",
    "2. Now assume that for each month among May, June, July, and August, the probability of being born in that month is 1/10, whereas for every other month the probability of being born in that month is 3/40. What is the probability that two people selected uniformly at random have the same birth month? Is this more or less than in part a? "
   ]
  },
  {
   "cell_type": "markdown",
   "metadata": {},
   "source": [
    "1. n = 5, because 1 - (12 * 11 * 10 * 9 * 8) / 12^5 = 0.618 > 0.5\n",
    "2. 0.085, which is greater than that of part a"
   ]
  },
  {
   "cell_type": "markdown",
   "metadata": {},
   "source": [
    "### Question 6\n",
    "\n",
    "1. Suppose the average/mean home price in the United States is 300,000 dollars. If we select a home uniformly at random, what is an upper bound on the probability that it's price is more than 1 million dollars? That is, provide and justify a statement of the form \"The probability that a home chosen uniformly at random has price greater than $X$ is at most $P$.\" Use Markov's inequality to provide the bound.\n",
    "2. Suppose the standard deviation in home prices is 100,000 dollars. Use Chebyshev's inequality to provide a better upper bound on the probability that a home selected unfiormly at random has price more than 1 million dollars.\n",
    "3. Suppose we have an iid sample of $n$ home prices and the empirical mean price $\\overline{X}_n$ is greater than 301,000 dollars. Assuming that we know the standard deviation in home prices is 100,000 dollars and assuming $n$ is large enough that the central limit theorem applies, how many samples $n$ would we need before we could conclude that the probability of observing $\\overline{X}_n > 301,000$ is at most 5%, assuming the true mean of the underlying distribution is 300,000 dollars?    "
   ]
  },
  {
   "cell_type": "markdown",
   "metadata": {},
   "source": [
    "1. Markov's Inequality: P(X >= a) <= E(X) / a\n",
    "- P(X >= 1,000,000) <= 300,000 / 1,000,000 = 0.3\n",
    "- Ans: 30%\n",
    "\n",
    "2. Chebyshev's Inequality: P(|X - E(X)| >= a) <= Var(X) / a^2\n",
    "- P(|X - 300,000| >= 700,000) <= (100,000)^2 / (700,000)^2 = 0.02\n",
    "- Ans: 2%\n",
    "\n",
    "3. Central Limit Theorem: Z = (X-mu) / (sigma / sqrt(n))\n",
    "- P(Xn > 301,000) <= 0.05\n",
    "- Z = (301,000 - 300,000) / (100,000 / sqrt(n)) \n",
    "- Z = 2 since 95% of the data are within 2 standard deviations of the mean, so n = 40,000\n",
    "- Ans: 40,000"
   ]
  },
  {
   "cell_type": "markdown",
   "metadata": {},
   "source": [
    "### Question 7\n",
    "There were 151 \"pokemon\" in the original generation of the popular franchise. Suppose you start purchasing pokemon cards. Each card you purchase has a pokemon chosen independently and uniformly at random from the 151 possible with replacement (that is, you can get the same card multiple times). Use Monte Carlo Simulation to estimate answers to the following questions. You can use Python's `random` library or the `numpy.random` library.\n",
    "\n",
    "1. Suppose you have a particular favorite pokemon. Suppose you purchase 150 cards total. What is the probability that you will get your favorite pokemon's card? Conduct enough simulations that you are confident in your answer +/- 0.01 (or 1%).\n",
    "2. Suppose you purchase 300 cards total. What is the expected number of *unique* pokemon cards that you will have? Conduct enough simulations that you are confident in your answer +/- 1 card.  \n",
    "3. Suppose you buy 600 cards total. What is the probability that you will have all 151 unique cards? Conduct enough simulations that you are confident in your answer +/- 0.01 (or 1%).\n"
   ]
  },
  {
   "cell_type": "code",
   "execution_count": 5,
   "metadata": {},
   "outputs": [],
   "source": [
    "import numpy as np\n",
    "import random"
   ]
  },
  {
   "cell_type": "code",
   "execution_count": 1,
   "metadata": {},
   "outputs": [
    {
     "name": "stdout",
     "output_type": "stream",
     "text": [
      "0.6308976890038165\n"
     ]
    }
   ],
   "source": [
    "# Put your code to answer question 7 here\n",
    "# Feel free to add extra code cells as needed\n",
    "# probability of getting favorite pokemon card\n",
    "favProb = 1/151\n",
    "notFavProb = 1-(1/151)\n",
    "numCards = 150\n",
    "\n",
    "# 1\n",
    "print(1-(150/151)**150)"
   ]
  },
  {
   "cell_type": "code",
   "execution_count": 6,
   "metadata": {},
   "outputs": [
    {
     "name": "stdout",
     "output_type": "stream",
     "text": [
      "130.515\n"
     ]
    }
   ],
   "source": [
    "# 2\n",
    "cardList = [i for i in range(1,152)]\n",
    "uniqueList = []\n",
    "for i in range(1000):\n",
    "    trialList = []\n",
    "    for i in range(300):\n",
    "        trialList.append(random.choice(cardList))\n",
    "    uniqueList.append(len(set(trialList)))\n",
    "print(np.mean(uniqueList))"
   ]
  },
  {
   "cell_type": "code",
   "execution_count": 7,
   "metadata": {},
   "outputs": [
    {
     "name": "stdout",
     "output_type": "stream",
     "text": [
      "0.057\n"
     ]
    }
   ],
   "source": [
    "# 3\n",
    "cardList = [i for i in range(1,152)]\n",
    "uniqueList = []\n",
    "for i in range(1000):\n",
    "    trialList = []\n",
    "    for i in range(600):\n",
    "        trialList.append(random.choice(cardList))\n",
    "    if len(set(trialList)) == 151:\n",
    "        uniqueList.append(1)\n",
    "    else:\n",
    "        uniqueList.append(0)\n",
    "print(np.mean(uniqueList))"
   ]
  },
  {
   "cell_type": "markdown",
   "metadata": {},
   "source": [
    "1. 0.63 +/- 0.01\n",
    "2. 130 +/- 1\n",
    "3. 0.05 +/- 0.01"
   ]
  }
 ],
 "metadata": {
  "kernelspec": {
   "display_name": "Python 3",
   "language": "python",
   "name": "python3"
  },
  "language_info": {
   "codemirror_mode": {
    "name": "ipython",
    "version": 3
   },
   "file_extension": ".py",
   "mimetype": "text/x-python",
   "name": "python",
   "nbconvert_exporter": "python",
   "pygments_lexer": "ipython3",
   "version": "3.8.8"
  }
 },
 "nbformat": 4,
 "nbformat_minor": 4
}
