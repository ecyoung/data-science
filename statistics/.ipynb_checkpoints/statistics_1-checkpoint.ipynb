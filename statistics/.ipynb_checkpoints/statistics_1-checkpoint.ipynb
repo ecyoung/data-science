{
 "cells": [
  {
   "cell_type": "markdown",
   "metadata": {},
   "source": [
    "# Statistics 1\n",
    "In this exercise, you will practice inferential statistics with confidence intervals, bootstrapping, and hypothesis testing. Problems may involve a combination of math and code. \n",
    "\n",
    "Recall that you can use LaTeX to nicely format your math inside Markdown cells by enclosing equations in single dollar signs (e.g., $x^2+4=8$) for inline math or double dollar signs for centered equations like $$P(X > 5) = \\frac{1}{6}.$$ For a reference if you are new to LaTeX, see the [overleaf documentation for mathematical expressions](https://www.overleaf.com/learn/latex/mathematical_expressions). "
   ]
  },
  {
   "cell_type": "code",
   "execution_count": 2,
   "metadata": {},
   "outputs": [],
   "source": [
    "import numpy as np\n",
    "import pandas as pd\n",
    "from scipy import stats"
   ]
  },
  {
   "cell_type": "markdown",
   "metadata": {},
   "source": [
    "### Question 1\n",
    "The General Social Survey asked the following question to a random sample of 1,155 Americans: “After an average work day, about how many hours do you have to relax or pursue activities that you enjoy?” A 95% confidence interval for the mean number of hours spent relaxing or pursuing activities they enjoy was (1.38, 1.92).\n",
    "1. Your friend reads the survey and says it means \"95% of the survey respondents reported between 1.38 and 1.92 hours.\" Is this a valid interpretation of the confidence interval? Why or why not?\n",
    "2. Suppose another set of researchers reported a confidence interval of (1.29, 2.01) based on the same sample of 1,155 Americans. Is this indicative of a higher or lower confidence level (the percentage)?\n",
    "3. Suppose next year a new survey asking the same question is conducted, and this time the sample size\n",
    "is 2,500. Assuming that the summary statistics (mean and standard deviation) are roughly the same as before, how will the new confidence interval differ from the (1.38, 1.92) computed before? Why?"
   ]
  },
  {
   "cell_type": "markdown",
   "metadata": {},
   "source": [
    "### Answer 1\n",
    "1. This is not a valid interpretation of the confidence interval, because a 95% confidence interval does not mean 95% of the data points falls within the interval. Instead, it means that if repeated samples were taken and the 95% confidence interval was computed for each sample, 95% of the intervals would contain the population mean. A 95% confidence interval has a 0.95 probability of containing the population mean. 95% of the population distribution is contained in the confidence interval.\n",
    "\n",
    "2. This is indicative of a higher confidence level, because the sample sample size is taken but the interval is widened from (1.38, 1.92) to (1.29, 2.01), so it is more likely for the true parameter to fall into the new interval. \n",
    "\n",
    "3. The new confidence interval will be narrower, because as shown by the confidence interval formula CI = Xbar +/- z(s/sqrt(n)), an increase in n decreases the two-way distance between xbar and the two separate ends of the confidence interval.  "
   ]
  },
  {
   "cell_type": "markdown",
   "metadata": {},
   "source": [
    "### Question 2\n",
    "1. A random survey of 1,000 US adults found that 42% believe raising the minimum wage will help the economy. Using the normal distribution, construct a 95% confidence interval for the true percentage of US adults who believe this using the normal distribution.\n",
    "2. A study of 19 random Risso's dolphins finds that the average amount of micrograms of mercury per wet gram of muscle in a dolphin is 4.4, with a standard deviation of 2.3. Construct a 95% confidence interval around this empirical mean using the student's t-distribution.   "
   ]
  },
  {
   "cell_type": "code",
   "execution_count": 4,
   "metadata": {},
   "outputs": [
    {
     "name": "stdout",
     "output_type": "stream",
     "text": [
      "(0.38940948891043026, 0.4505905110895697)\n",
      "(3.2914354851665495, 5.508564514833451)\n"
     ]
    }
   ],
   "source": [
    "# 2.1\n",
    "print(stats.norm.interval(0.95, loc = 0.42, scale=np.sqrt(0.42*(1-0.42))/np.sqrt(1000)))\n",
    "\n",
    "# 2.2\n",
    "print(stats.t.interval(0.95, loc = 4.4, scale=2.3/np.sqrt(19), df=18))"
   ]
  },
  {
   "cell_type": "markdown",
   "metadata": {},
   "source": [
    "### Answer 2\n",
    "1. (0.38940948891043026, 0.4505905110895697)\n",
    "2. (3.2914354851665495, 5.508564514833451)"
   ]
  },
  {
   "cell_type": "markdown",
   "metadata": {},
   "source": [
    "### Question 3\n",
    "You have a small dataset of the total number of miles that a random subset of individuals have walked over the last week: `data = [1, 3, 4, 8, 14, 23, 39, 51, 106, 319]` as defined in the code below.\n",
    "1. Construct a 95% confidence interval for the mean of `data` using the student's t-distribution.\n",
    "2. Use bootstrapping with 100,000 bootstrap resamples to construct a 95% confidence interval for the mean of `data`.\n",
    "3. Which confidence interval is more reasonable? Why?"
   ]
  },
  {
   "cell_type": "code",
   "execution_count": 5,
   "metadata": {},
   "outputs": [],
   "source": [
    "data = np.array([1, 3, 4, 8, 14, 23, 39, 51, 106, 319])"
   ]
  },
  {
   "cell_type": "code",
   "execution_count": 6,
   "metadata": {},
   "outputs": [
    {
     "name": "stdout",
     "output_type": "stream",
     "text": [
      "(-9.412687084679476, 123.01268708467947)\n",
      "(13.7, 122.10249999999941)\n"
     ]
    }
   ],
   "source": [
    "# 3.1\n",
    "print(stats.t.interval(0.95, loc=np.mean(data), scale=np.std(data)/np.sqrt(len(data)), df=len(data)-1))\n",
    "\n",
    "# 3.2\n",
    "sample = np.random.choice(data, size=(100000, len(data)), replace=True)\n",
    "sampleMeans = np.average(sample, axis=1)\n",
    "ciL = np.percentile(sampleMeans, 2.5)\n",
    "ciU = np.percentile(sampleMeans, 97.5)\n",
    "print((ciL, ciU))"
   ]
  },
  {
   "cell_type": "markdown",
   "metadata": {},
   "source": [
    "### Answer 3\n",
    "1. (-9.412687084679476, 123.01268708467947)\n",
    "2. (13.7, 121.3)\n",
    "3. The bootstrapping confidence interval is more reasonable because our sample size is extremely small and the data points vary a lot from each other, so taking repeated samples from the original sample with replacement helps make a more reasonable estimate of the standard deviation parameter.   "
   ]
  },
  {
   "cell_type": "markdown",
   "metadata": {},
   "source": [
    "### Question 4\n",
    "#### Part 1. \n",
    "It is believed that nearsightedness affects about 8% of all children. In a random sample of 194 children, 21 are nearsighted. Consider the following question: do these data provide evidence that the 8% value is inaccurate? State the specific hypotheses you will test to answer this question and indicate whether it is a one-sided or two-sided test (you can do either, just clarify which). Use a significance level of 0.05. Conduct the hypothesis test and calculate the p-value using the normal distribution. Interpret your result.\n",
    "\n",
    "#### Part 2.\n",
    "A USA Today/Gallup poll asked a group of unemployed and underemployed Americans if they have had major problems in their relationships with their spouse or another close family member as a result of not having a job (if unemployed) or not having a full-time job (if underemployed). 27% of the 1,145 unemployed respondents and 25% of the 675 underemployed respondents said they had major problems in relationships as a result of their employment status. Consider the following question: is the percentage of those having major problems different for unemployed versus underemployed Americans? State the specific hypotheses you will test to answer this question and indicate whether it is a one-sided or two-sided test (you can do either, just clarify which). \n",
    "\n",
    "Use a significance level of 0.05. Conduct the hypothesis test and calculate the p-value. You can do so most easily using [`scipy.stats.ttest_ind_from_stats`](https://docs.scipy.org/doc/scipy/reference/generated/scipy.stats.ttest_ind_from_stats.html#scipy.stats.ttest_ind_from_stats), though you can also look up the standard error calculations for the difference of proportions in Chapter 6.2 of the openIntro Statistics book referenced in the prepare if you wish to run the test using the normal distribution for a (very) slightly tighter p-value (you will get similar p-values and the same conclusion either way). Interpret your result."
   ]
  },
  {
   "cell_type": "code",
   "execution_count": 7,
   "metadata": {},
   "outputs": [
    {
     "name": "stdout",
     "output_type": "stream",
     "text": [
      "0.07349538001845213\n"
     ]
    }
   ],
   "source": [
    "# Code for question 4.1\n",
    "print(1 - stats.norm.cdf(np.sqrt(194)*(21/194-0.08)/np.sqrt(0.08*0.92)))"
   ]
  },
  {
   "cell_type": "code",
   "execution_count": 8,
   "metadata": {},
   "outputs": [
    {
     "data": {
      "text/plain": [
       "Ttest_indResult(statistic=0.9368337461051707, pvalue=0.3489685143193123)"
      ]
     },
     "execution_count": 8,
     "metadata": {},
     "output_type": "execute_result"
    }
   ],
   "source": [
    "# Code for question 4.2\n",
    "stats.ttest_ind_from_stats(0.27, np.sqrt(0.27*(1-0.27)),1145,0.25,np.sqrt(0.25*(1-0.25)),675)"
   ]
  },
  {
   "cell_type": "markdown",
   "metadata": {},
   "source": [
    "### Answer 4\n",
    "1. Using a one-sided test at a signficance level of 0.05, we fail to reject the null hypothesis that p=0.08 since p-value = 0.0735 > 0.05.\n",
    "\n",
    "2. Using a two-sided test at a significance level of 0.05, we fail to reject the null hypothesis that there is no difference between the percentage of unemployed and underempoyed Americans who have relationship problems as a result of their employment status. This is shown by how p-value = 0.349 > 0.05. "
   ]
  },
  {
   "cell_type": "markdown",
   "metadata": {},
   "source": [
    "### Question 5\n",
    "Below we import the `university_data` dataset we have looked at before. It contains information about 311 universities in the United States. In general, private universities charge higher tuition rates than public universities. However, private universities often argue that once you take financial aid into account, the cost is often not different. In this question you will explore this issue.\n",
    "1. First, report the average `tuition` of `public` schools and the average `tuition` of `private` schools to confirm the basic notion that `private` schools charge higher tuition on average.\n",
    "2. Consider the null hypothesis that `private` and `public` universities have the same average `cost_after_aid`. Conduct a two-sided t-test to determine whether the dataset provides statistically significant evidence to reject the null hypothesis in favor of the alternative hypothesis that they have different average `cost_after_aid`. You will notice that some universities do not have a value recorded for `cost_after_aid`. For now, simply omit those universities from your analysis and assume that the remaining are a random sample of American universities. Report the resulting p-value. Interpret your results at a significance level of 0.05.\n",
    "3. In the previous step you tested for statistical significance of the difference in `cost_after_aid` between public and private schools. What is the effect size? Report the average `cost_after_aid` of `public` schools and the average `cost_after_aid` of `private` schools.\n",
    "4. In step 2 we assumed that we could omit the universities with missing data and the remainder would be a random sample of American universities. Is that assumption well justified? Consider especially the average values you computed in steps 1 and 3 and consider which universities are missing the `cost_after_aid` information. Given this, what can you say about the claim that \"private universities often argue that once you take financial aid into account, the cost is often not different?\""
   ]
  },
  {
   "cell_type": "code",
   "execution_count": 8,
   "metadata": {},
   "outputs": [
    {
     "data": {
      "text/html": [
       "<div>\n",
       "<style scoped>\n",
       "    .dataframe tbody tr th:only-of-type {\n",
       "        vertical-align: middle;\n",
       "    }\n",
       "\n",
       "    .dataframe tbody tr th {\n",
       "        vertical-align: top;\n",
       "    }\n",
       "\n",
       "    .dataframe thead th {\n",
       "        text-align: right;\n",
       "    }\n",
       "</style>\n",
       "<table border=\"1\" class=\"dataframe\">\n",
       "  <thead>\n",
       "    <tr style=\"text-align: right;\">\n",
       "      <th></th>\n",
       "      <th>act_avg</th>\n",
       "      <th>sat_avg</th>\n",
       "      <th>enrollment</th>\n",
       "      <th>city</th>\n",
       "      <th>acceptance_rate</th>\n",
       "      <th>percent_receiving_aid</th>\n",
       "      <th>cost_after_aid</th>\n",
       "      <th>state</th>\n",
       "      <th>hs_gpa_avg</th>\n",
       "      <th>tuition</th>\n",
       "      <th>Institution_name</th>\n",
       "      <th>institution_type</th>\n",
       "      <th>us_rank</th>\n",
       "    </tr>\n",
       "  </thead>\n",
       "  <tbody>\n",
       "    <tr>\n",
       "      <th>0</th>\n",
       "      <td>32.0</td>\n",
       "      <td>1400.0</td>\n",
       "      <td>5400.0</td>\n",
       "      <td>Princeton</td>\n",
       "      <td>7.0</td>\n",
       "      <td>60.0</td>\n",
       "      <td>16793.0</td>\n",
       "      <td>NJ</td>\n",
       "      <td>3.9</td>\n",
       "      <td>47140</td>\n",
       "      <td>Princeton University</td>\n",
       "      <td>private</td>\n",
       "      <td>1.0</td>\n",
       "    </tr>\n",
       "    <tr>\n",
       "      <th>1</th>\n",
       "      <td>32.0</td>\n",
       "      <td>1430.0</td>\n",
       "      <td>6710.0</td>\n",
       "      <td>Cambridge</td>\n",
       "      <td>5.0</td>\n",
       "      <td>55.0</td>\n",
       "      <td>16338.0</td>\n",
       "      <td>MA</td>\n",
       "      <td>4.0</td>\n",
       "      <td>48949</td>\n",
       "      <td>Harvard University</td>\n",
       "      <td>private</td>\n",
       "      <td>2.0</td>\n",
       "    </tr>\n",
       "    <tr>\n",
       "      <th>2</th>\n",
       "      <td>32.0</td>\n",
       "      <td>1450.0</td>\n",
       "      <td>5941.0</td>\n",
       "      <td>Chicago</td>\n",
       "      <td>8.0</td>\n",
       "      <td>42.0</td>\n",
       "      <td>27767.0</td>\n",
       "      <td>IL</td>\n",
       "      <td>4.0</td>\n",
       "      <td>54825</td>\n",
       "      <td>University of Chicago</td>\n",
       "      <td>private</td>\n",
       "      <td>3.0</td>\n",
       "    </tr>\n",
       "    <tr>\n",
       "      <th>3</th>\n",
       "      <td>32.0</td>\n",
       "      <td>1420.0</td>\n",
       "      <td>5472.0</td>\n",
       "      <td>New Haven</td>\n",
       "      <td>6.0</td>\n",
       "      <td>50.0</td>\n",
       "      <td>18385.0</td>\n",
       "      <td>CT</td>\n",
       "      <td>NaN</td>\n",
       "      <td>51400</td>\n",
       "      <td>Yale University</td>\n",
       "      <td>private</td>\n",
       "      <td>3.0</td>\n",
       "    </tr>\n",
       "    <tr>\n",
       "      <th>4</th>\n",
       "      <td>32.0</td>\n",
       "      <td>1430.0</td>\n",
       "      <td>6113.0</td>\n",
       "      <td>New York</td>\n",
       "      <td>6.0</td>\n",
       "      <td>48.0</td>\n",
       "      <td>21041.0</td>\n",
       "      <td>NY</td>\n",
       "      <td>NaN</td>\n",
       "      <td>57208</td>\n",
       "      <td>Columbia University</td>\n",
       "      <td>private</td>\n",
       "      <td>5.0</td>\n",
       "    </tr>\n",
       "  </tbody>\n",
       "</table>\n",
       "</div>"
      ],
      "text/plain": [
       "   act_avg  sat_avg  enrollment       city  acceptance_rate  \\\n",
       "0     32.0   1400.0      5400.0  Princeton              7.0   \n",
       "1     32.0   1430.0      6710.0  Cambridge              5.0   \n",
       "2     32.0   1450.0      5941.0    Chicago              8.0   \n",
       "3     32.0   1420.0      5472.0  New Haven              6.0   \n",
       "4     32.0   1430.0      6113.0   New York              6.0   \n",
       "\n",
       "   percent_receiving_aid  cost_after_aid state  hs_gpa_avg  tuition  \\\n",
       "0                   60.0         16793.0    NJ         3.9    47140   \n",
       "1                   55.0         16338.0    MA         4.0    48949   \n",
       "2                   42.0         27767.0    IL         4.0    54825   \n",
       "3                   50.0         18385.0    CT         NaN    51400   \n",
       "4                   48.0         21041.0    NY         NaN    57208   \n",
       "\n",
       "        Institution_name institution_type  us_rank  \n",
       "0   Princeton University          private      1.0  \n",
       "1     Harvard University          private      2.0  \n",
       "2  University of Chicago          private      3.0  \n",
       "3        Yale University          private      3.0  \n",
       "4    Columbia University          private      5.0  "
      ]
     },
     "execution_count": 8,
     "metadata": {},
     "output_type": "execute_result"
    }
   ],
   "source": [
    "uni = pd.read_csv(\"university_data.csv\")\n",
    "uni.head()"
   ]
  },
  {
   "cell_type": "code",
   "execution_count": 9,
   "metadata": {},
   "outputs": [
    {
     "name": "stdout",
     "output_type": "stream",
     "text": [
      "Average public tuition: \n",
      "25968.97894736842\n",
      "Average private tuition: \n",
      "40871.0350877193\n"
     ]
    }
   ],
   "source": [
    "# Q1 \n",
    "print(\"Average public tuition: \")\n",
    "print(uni[uni['institution_type']=='public']['tuition'].mean())\n",
    "print(\"Average private tuition: \")\n",
    "print(uni[uni['institution_type']=='private']['tuition'].mean())"
   ]
  },
  {
   "cell_type": "code",
   "execution_count": 10,
   "metadata": {},
   "outputs": [
    {
     "name": "stdout",
     "output_type": "stream",
     "text": [
      "Ttest_indResult(statistic=3.6952785181489114, pvalue=0.000313509738634415)\n"
     ]
    }
   ],
   "source": [
    "# Q2\n",
    "publicCAA = uni[uni['institution_type']=='public']['cost_after_aid'].dropna()\n",
    "privateCAA = uni[uni['institution_type']=='private']['cost_after_aid'].dropna()\n",
    "print(stats.ttest_ind_from_stats(publicCAA.mean(), publicCAA.std(),len(publicCAA), privateCAA.mean(), privateCAA.std(),len(privateCAA)))"
   ]
  },
  {
   "cell_type": "code",
   "execution_count": 11,
   "metadata": {},
   "outputs": [
    {
     "data": {
      "text/plain": [
       "4515.956964006258"
      ]
     },
     "execution_count": 11,
     "metadata": {},
     "output_type": "execute_result"
    }
   ],
   "source": [
    "# Q3\n",
    "publicCAA.mean() - privateCAA.mean()"
   ]
  },
  {
   "cell_type": "code",
   "execution_count": 12,
   "metadata": {},
   "outputs": [
    {
     "data": {
      "text/plain": [
       "23898.958333333332"
      ]
     },
     "execution_count": 12,
     "metadata": {},
     "output_type": "execute_result"
    }
   ],
   "source": [
    "# Q4\n",
    "uni[uni['cost_after_aid'].isna()]['tuition'].mean()"
   ]
  },
  {
   "cell_type": "markdown",
   "metadata": {},
   "source": [
    "### Answer 5\n",
    "1. Average public tuition: 25968.97894736842, Average private tuition: 40871.0350877193\n",
    "2. The p-value of the two-sided test is 0.000314, which is less than our confidence level of 0.05. Therefore, we reject the null hypothesis that average public tuition cost-after-aid is the same as average private tuition cost-after-aid. \n",
    "3. Effect Size: 4515.956964006258\n",
    "4. The assumption is not well justified because the universities that do not offer aid usually have low tuition costs themselves. The average cost-after-aid for public universities is even higher than the average tuition of public universities that don't offer aid. "
   ]
  }
 ],
 "metadata": {
  "kernelspec": {
   "display_name": "Python 3",
   "language": "python",
   "name": "python3"
  },
  "language_info": {
   "codemirror_mode": {
    "name": "ipython",
    "version": 3
   },
   "file_extension": ".py",
   "mimetype": "text/x-python",
   "name": "python",
   "nbconvert_exporter": "python",
   "pygments_lexer": "ipython3",
   "version": "3.8.8"
  }
 },
 "nbformat": 4,
 "nbformat_minor": 4
}
