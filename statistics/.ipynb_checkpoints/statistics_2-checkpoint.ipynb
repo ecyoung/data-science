{
 "cells": [
  {
   "cell_type": "markdown",
   "metadata": {},
   "source": [
    "# Statistics 2\n",
    "In this exercise, you will demonstrate your learning of inferential statistics with confidence intervals, bootstrapping, and hypothesis testing. Problems may involve a combination of math and code. \n",
    "\n",
    "Recall that you can use LaTeX to nicely format your math inside Markdown cellsby enclosing equations in single dollar signs (e.g., $x^2+4=8$) for inline math or double dollar signs for centered equations like $$P(X > 5) = \\frac{1}{6}.$$ For a reference if you are new to LaTeX, see the [overleaf documentation for mathematical expressions](https://www.overleaf.com/learn/latex/mathematical_expressions). "
   ]
  },
  {
   "cell_type": "code",
   "execution_count": 1,
   "metadata": {},
   "outputs": [],
   "source": [
    "import numpy as np\n",
    "import pandas as pd\n",
    "from scipy import stats"
   ]
  },
  {
   "cell_type": "markdown",
   "metadata": {},
   "source": [
    "### Question 1\n",
    "\n",
    "1. A website is trying to increase registration for first-time visitors, exposing a random subset of these visitors to a new site design. Of 752 randomly sampled visitors over a month who saw the new design, 64 registered. Construct a 95% confidence interval for the percentage of visitors who would register for the website under the new design using the normal distribution.\n",
    "2. A study examined the average pay for a random sample of men and women entering the workforce as doctors for 21 different positions. If each gender was equally paid, then we would expect about half of those positions to have men paid more than women and women would be paid more than men in the other half of positions. In the study, men were, on average, paid more in 17 of the 21 positions. Complete a hypothesis test (two-sided or one-sided, just be clear which you are reporting) to examine whether there is significant evidence (at the 0.05 level) of gender discrimination in pay in these positions. Report your p-value and interpret the result."
   ]
  },
  {
   "cell_type": "code",
   "execution_count": 2,
   "metadata": {},
   "outputs": [
    {
     "name": "stdout",
     "output_type": "stream",
     "text": [
      "(0.06516269200219607, 0.10505007395525073)\n",
      "0.0022781749015925445\n"
     ]
    }
   ],
   "source": [
    "# 1.1\n",
    "print(stats.norm.interval(0.95, loc = 64/752, scale=np.sqrt((64/752)*(1-64/752))/np.sqrt(752)))\n",
    "\n",
    "# 1.2\n",
    "print(1 - stats.norm.cdf(np.sqrt(21)*(17/21-0.5)/np.sqrt(0.5*0.5)))"
   ]
  },
  {
   "cell_type": "markdown",
   "metadata": {},
   "source": [
    "### Answer 1\n",
    "1. (0.06516269200219607, 0.10505007395525073)\n",
    "2. Using a one-sided one proportion z test, we can find that p-value = 0.00228 < 0.05, so we reject the null hypothesis that on average men and women are equally paid and accept the alternative hypothesis that men are paid more than women on average. "
   ]
  },
  {
   "cell_type": "markdown",
   "metadata": {},
   "source": [
    "## Movie Ratings Data\n",
    "In the remainder of this assignment you will work with the movielens dataset of movie ratings that we have seen before. Below we import and preview the data. It consists of 3 tables: `users` has a row for every individual who has rated any movies, `ratings` has a row for every rating of a particular movie by a particular user, and `movies` has a row for every movie relating its `movie_id` to its `movie_title`. The data is a random sample of all of the movie ratings made on the movielens service. You may need to merge parts of the data to answer some of the following questions."
   ]
  },
  {
   "cell_type": "code",
   "execution_count": 4,
   "metadata": {},
   "outputs": [
    {
     "data": {
      "text/html": [
       "<div>\n",
       "<style scoped>\n",
       "    .dataframe tbody tr th:only-of-type {\n",
       "        vertical-align: middle;\n",
       "    }\n",
       "\n",
       "    .dataframe tbody tr th {\n",
       "        vertical-align: top;\n",
       "    }\n",
       "\n",
       "    .dataframe thead th {\n",
       "        text-align: right;\n",
       "    }\n",
       "</style>\n",
       "<table border=\"1\" class=\"dataframe\">\n",
       "  <thead>\n",
       "    <tr style=\"text-align: right;\">\n",
       "      <th></th>\n",
       "      <th>user_id</th>\n",
       "      <th>age</th>\n",
       "      <th>sex</th>\n",
       "      <th>occupation</th>\n",
       "    </tr>\n",
       "  </thead>\n",
       "  <tbody>\n",
       "    <tr>\n",
       "      <th>0</th>\n",
       "      <td>1</td>\n",
       "      <td>24</td>\n",
       "      <td>M</td>\n",
       "      <td>technician</td>\n",
       "    </tr>\n",
       "    <tr>\n",
       "      <th>1</th>\n",
       "      <td>2</td>\n",
       "      <td>53</td>\n",
       "      <td>F</td>\n",
       "      <td>other</td>\n",
       "    </tr>\n",
       "    <tr>\n",
       "      <th>2</th>\n",
       "      <td>3</td>\n",
       "      <td>23</td>\n",
       "      <td>M</td>\n",
       "      <td>writer</td>\n",
       "    </tr>\n",
       "    <tr>\n",
       "      <th>3</th>\n",
       "      <td>4</td>\n",
       "      <td>24</td>\n",
       "      <td>M</td>\n",
       "      <td>technician</td>\n",
       "    </tr>\n",
       "    <tr>\n",
       "      <th>4</th>\n",
       "      <td>5</td>\n",
       "      <td>33</td>\n",
       "      <td>F</td>\n",
       "      <td>other</td>\n",
       "    </tr>\n",
       "  </tbody>\n",
       "</table>\n",
       "</div>"
      ],
      "text/plain": [
       "   user_id  age sex  occupation\n",
       "0        1   24   M  technician\n",
       "1        2   53   F       other\n",
       "2        3   23   M      writer\n",
       "3        4   24   M  technician\n",
       "4        5   33   F       other"
      ]
     },
     "execution_count": 4,
     "metadata": {},
     "output_type": "execute_result"
    }
   ],
   "source": [
    "users = pd.read_csv(\"users.csv\")\n",
    "users.head()"
   ]
  },
  {
   "cell_type": "code",
   "execution_count": 5,
   "metadata": {},
   "outputs": [
    {
     "data": {
      "text/html": [
       "<div>\n",
       "<style scoped>\n",
       "    .dataframe tbody tr th:only-of-type {\n",
       "        vertical-align: middle;\n",
       "    }\n",
       "\n",
       "    .dataframe tbody tr th {\n",
       "        vertical-align: top;\n",
       "    }\n",
       "\n",
       "    .dataframe thead th {\n",
       "        text-align: right;\n",
       "    }\n",
       "</style>\n",
       "<table border=\"1\" class=\"dataframe\">\n",
       "  <thead>\n",
       "    <tr style=\"text-align: right;\">\n",
       "      <th></th>\n",
       "      <th>user_id</th>\n",
       "      <th>movie_id</th>\n",
       "      <th>rating</th>\n",
       "    </tr>\n",
       "  </thead>\n",
       "  <tbody>\n",
       "    <tr>\n",
       "      <th>0</th>\n",
       "      <td>196</td>\n",
       "      <td>242</td>\n",
       "      <td>3</td>\n",
       "    </tr>\n",
       "    <tr>\n",
       "      <th>1</th>\n",
       "      <td>186</td>\n",
       "      <td>302</td>\n",
       "      <td>3</td>\n",
       "    </tr>\n",
       "    <tr>\n",
       "      <th>2</th>\n",
       "      <td>22</td>\n",
       "      <td>377</td>\n",
       "      <td>1</td>\n",
       "    </tr>\n",
       "    <tr>\n",
       "      <th>3</th>\n",
       "      <td>244</td>\n",
       "      <td>51</td>\n",
       "      <td>2</td>\n",
       "    </tr>\n",
       "    <tr>\n",
       "      <th>4</th>\n",
       "      <td>166</td>\n",
       "      <td>346</td>\n",
       "      <td>1</td>\n",
       "    </tr>\n",
       "  </tbody>\n",
       "</table>\n",
       "</div>"
      ],
      "text/plain": [
       "   user_id  movie_id  rating\n",
       "0      196       242       3\n",
       "1      186       302       3\n",
       "2       22       377       1\n",
       "3      244        51       2\n",
       "4      166       346       1"
      ]
     },
     "execution_count": 5,
     "metadata": {},
     "output_type": "execute_result"
    }
   ],
   "source": [
    "ratings = pd.read_csv(\"ratings.csv\")\n",
    "ratings.head()"
   ]
  },
  {
   "cell_type": "code",
   "execution_count": 6,
   "metadata": {},
   "outputs": [
    {
     "data": {
      "text/html": [
       "<div>\n",
       "<style scoped>\n",
       "    .dataframe tbody tr th:only-of-type {\n",
       "        vertical-align: middle;\n",
       "    }\n",
       "\n",
       "    .dataframe tbody tr th {\n",
       "        vertical-align: top;\n",
       "    }\n",
       "\n",
       "    .dataframe thead th {\n",
       "        text-align: right;\n",
       "    }\n",
       "</style>\n",
       "<table border=\"1\" class=\"dataframe\">\n",
       "  <thead>\n",
       "    <tr style=\"text-align: right;\">\n",
       "      <th></th>\n",
       "      <th>movie_id</th>\n",
       "      <th>movie_title</th>\n",
       "    </tr>\n",
       "  </thead>\n",
       "  <tbody>\n",
       "    <tr>\n",
       "      <th>0</th>\n",
       "      <td>1</td>\n",
       "      <td>Toy Story (1995)</td>\n",
       "    </tr>\n",
       "    <tr>\n",
       "      <th>1</th>\n",
       "      <td>2</td>\n",
       "      <td>GoldenEye (1995)</td>\n",
       "    </tr>\n",
       "    <tr>\n",
       "      <th>2</th>\n",
       "      <td>3</td>\n",
       "      <td>Four Rooms (1995)</td>\n",
       "    </tr>\n",
       "    <tr>\n",
       "      <th>3</th>\n",
       "      <td>4</td>\n",
       "      <td>Get Shorty (1995)</td>\n",
       "    </tr>\n",
       "    <tr>\n",
       "      <th>4</th>\n",
       "      <td>5</td>\n",
       "      <td>Copycat (1995)</td>\n",
       "    </tr>\n",
       "  </tbody>\n",
       "</table>\n",
       "</div>"
      ],
      "text/plain": [
       "   movie_id        movie_title\n",
       "0         1   Toy Story (1995)\n",
       "1         2   GoldenEye (1995)\n",
       "2         3  Four Rooms (1995)\n",
       "3         4  Get Shorty (1995)\n",
       "4         5     Copycat (1995)"
      ]
     },
     "execution_count": 6,
     "metadata": {},
     "output_type": "execute_result"
    }
   ],
   "source": [
    "movies = pd.read_csv(\"movies.csv\")\n",
    "movies.head()"
   ]
  },
  {
   "cell_type": "markdown",
   "metadata": {},
   "source": [
    "### Question 2\n",
    "1. Compute a 95% confidence interval for the mean `age` of users using the normal distribution.\n",
    "2. Compute a 95% confidence interval for the mean `age` of users who have rated the movie `Casablanca (1942)` using the normal distribution.\n",
    "3. Casablanca is an old movie, one might suspect that it has been rated by older individuals on average than the entire dataset. Just looking at the confidence intervals you computed in steps 1 and 2, can you conclude that there is significant evidence for this belief? Why or why not?"
   ]
  },
  {
   "cell_type": "code",
   "execution_count": 7,
   "metadata": {},
   "outputs": [
    {
     "name": "stdout",
     "output_type": "stream",
     "text": [
      "(33.27417039488504, 34.829753253047095)\n",
      "(34.46345637868268, 37.330782304444895)\n"
     ]
    }
   ],
   "source": [
    "# 2.1 CI for age\n",
    "print(stats.norm.interval(0.95, loc=np.mean(users['age']), scale=np.std(users['age'])/np.sqrt(len(users['age']))))\n",
    "\n",
    "# 2.2 CI for age of casablanca raters\n",
    "merge1 = users.merge(ratings, how=\"inner\",on=\"user_id\")\n",
    "merge2 = merge1.merge(movies, how=\"inner\",on=\"movie_id\")\n",
    "casablanca = merge2[merge2[\"movie_title\"]==\"Casablanca (1942)\"][\"age\"]\n",
    "print(stats.norm.interval(0.95, loc=np.mean(casablanca), scale=np.std(casablanca)/np.sqrt(len(casablanca))))"
   ]
  },
  {
   "cell_type": "markdown",
   "metadata": {},
   "source": [
    "### Answer 2 \n",
    "1. (33.27417039488504, 34.829753253047095)\n",
    "2. (34.46345637868268, 37.330782304444895)\n",
    "3. No, because the two confidence intervals are extremely close to each other (both fall in the range of 33 to 37). "
   ]
  },
  {
   "cell_type": "markdown",
   "metadata": {},
   "source": [
    "### Question 3\n",
    "Only 18 users have rated the movie `Lost in Space (1998)`.\n",
    "1. Use bootstrapping with 10,000 bootstrap resamples to compute a 95% confidence interval for the average `age` of users who have rated `Lost in Space (1998)`.\n",
    "2. One of the advantages of bootstrapping is that we can easily compute confidence intervals for arbitrary measurements of distributions. Use bootstrapping with 10,000 bootstrap resamples to compute a 95% confidence interval for the **median** `rating` of `Lost in Space (1998)`. Note that numpy provides a vectorized function for [calculating the median](https://numpy.org/doc/stable/reference/generated/numpy.median.html) as well as the mean."
   ]
  },
  {
   "cell_type": "code",
   "execution_count": 8,
   "metadata": {},
   "outputs": [
    {
     "name": "stdout",
     "output_type": "stream",
     "text": [
      "(26.055555555555557, 36.72222222222222)\n",
      "(2.5, 4.0)\n"
     ]
    }
   ],
   "source": [
    "# 3.1\n",
    "lostInSpace = merge2[merge2[\"movie_title\"]==\"Lost in Space (1998)\"][\"age\"]\n",
    "sample = np.random.choice(lostInSpace, size=(10000, len(lostInSpace)), replace=True)\n",
    "sampleMeans = np.average(sample, axis=1)\n",
    "ciL = np.percentile(sampleMeans, 2.5)\n",
    "ciU = np.percentile(sampleMeans, 97.5)\n",
    "print((ciL, ciU))\n",
    "\n",
    "# 3.2\n",
    "lostInSpaceRating = merge2[merge2[\"movie_title\"]==\"Lost in Space (1998)\"][\"rating\"]\n",
    "sampleRating = np.random.choice(lostInSpaceRating, size=(10000, len(lostInSpaceRating)), replace=True)\n",
    "sampleMeansRating = np.median(sampleRating, axis=1)\n",
    "ciRatingL = np.percentile(sampleMeansRating, 2.5)\n",
    "ciRatingU = np.percentile(sampleMeansRating, 97.5)\n",
    "print((ciRatingL, ciRatingU))"
   ]
  },
  {
   "cell_type": "markdown",
   "metadata": {},
   "source": [
    "### Answer 3\n",
    "1. (26.0, 36.833333333333336)\n",
    "2. (2.5, 4.0)"
   ]
  },
  {
   "cell_type": "markdown",
   "metadata": {},
   "source": [
    "### Question 4\n",
    "The `Star Wars (1977)` film is quite popular, with a median rating of 5 out of 5. However, male users gave it a slightly higher average rating of about 4.4 whereas female users gave the same movie an average rating of about 4.2.\n",
    "1. Consider the null hypothesis that the average rating of `Star Wars (1977)` is the same for `sex='F'` and `sex='M'` users. The alternative hypothesis is that the average ratings are not equal. Conduct a two-sided t test using [`stats.ttest_ind`](https://docs.scipy.org/doc/scipy/reference/generated/scipy.stats.ttest_ind.html) to evaluate this using the sample ratings data. Report your p-value and interpret it at a significance level of 0.05.\n",
    "2. About 51% of female users rated `Star Wars (1977)` a `5` (the highest rating). Consider the null hypothesis that 51% of male users rate `Star Wars (1977)` a `5`. Conduct a two-sided hypothesis test  using [`stats.t.cdf`](https://docs.scipy.org/doc/scipy/reference/generated/scipy.stats.t.html) to evaluate this in light of the sample ratings data of male users who rated `Star Wars (1977)`. Report your p-value and interpret it at a significance level of 0.05.\n",
    "3. Consider the null hypothesis that female and male users are equally likely to rate `Star Wars (1977)` a `5`. Conduct a two-sided t test using [`stats.ttest_ind_from_stats`](https://docs.scipy.org/doc/scipy/reference/generated/scipy.stats.ttest_ind_from_stats.html) to evaluate this in light of the sample data of female and male users who rated `Star Wars (1977)`. Report your p-value and interpret it at a significance level of 0.05. You should observe a different p-value than in step 2 despite the hypotheses under consideration being ostensibly similar. Briefly explain why you observe this difference."
   ]
  },
  {
   "cell_type": "code",
   "execution_count": 9,
   "metadata": {},
   "outputs": [
    {
     "name": "stdout",
     "output_type": "stream",
     "text": [
      "Ttest_indResult(statistic=-1.841451034109888, pvalue=0.06606506021398857)\n",
      "0.11884767561745613\n",
      "Ttest_indResult(statistic=23.31026637271364, pvalue=2.404224741555527e-85)\n"
     ]
    }
   ],
   "source": [
    "starwars = merge2[merge2[\"movie_title\"]==\"Star Wars (1977)\"]\n",
    "F = starwars[starwars[\"sex\"]==\"F\"][\"rating\"]\n",
    "M = starwars[starwars[\"sex\"]==\"M\"][\"rating\"]\n",
    "\n",
    "# 4.1\n",
    "print(stats.ttest_ind(F,M))\n",
    "\n",
    "# 4.2\n",
    "print(2*(1-stats.t.cdf(0.95, df=len(M[M==5])/len(M), loc=0.51, scale=np.sqrt(0.51*0.49)/np.sqrt(len(M)))))\n",
    "\n",
    "# 4.3\n",
    "M5P = len(M[M==5])/len(M)\n",
    "F5P = len(F[F==5])/len(F)\n",
    "print(stats.ttest_ind_from_stats(M5P, np.sqrt(M5P*(1-M5P))/np.sqrt(len(M)),len(M), F5P, np.sqrt(F5P*(1-F5P))/np.sqrt(len(F)),len(F)))"
   ]
  },
  {
   "cell_type": "markdown",
   "metadata": {},
   "source": [
    "### Answer 4\n",
    "1. Using a two-sided t-test, we find that p-value = 0.066 > confidence level = 0.05, so we fail to reject the null hypothesis that the average ratings for male and female reviewers are the same. \n",
    "\n",
    "2. Using a two-sided t-test, we find that p-value = 0.119 > confidence level = 0.05, so we fail to reject the null hypothesis that 51% of male users rate Star Wars a 5. \n",
    "\n",
    "3. Using a two-sided t-test, we find that p-value = 2.404224741555527e-85 < confidence level = 0.05, so we reject the null hypothesis that female and male users are equally likely to rate star wars a 5 and accept the alternative hypothesis that female and male users are unequally likely to rate star wars a 5. The reason why the p-value found in 4.3 differs so much with the p-value found in 4.2 is that the null hypotheses are innately different. According to data trends, we can notice that it is much more likely for female and male users to rate star wars a 5 at a different rate. "
   ]
  }
 ],
 "metadata": {
  "kernelspec": {
   "display_name": "Python 3",
   "language": "python",
   "name": "python3"
  },
  "language_info": {
   "codemirror_mode": {
    "name": "ipython",
    "version": 3
   },
   "file_extension": ".py",
   "mimetype": "text/x-python",
   "name": "python",
   "nbconvert_exporter": "python",
   "pygments_lexer": "ipython3",
   "version": "3.8.8"
  }
 },
 "nbformat": 4,
 "nbformat_minor": 4
}
