{
 "cells": [
  {
   "cell_type": "markdown",
   "metadata": {},
   "source": [
    "# Simple Python"
   ]
  },
  {
   "cell_type": "markdown",
   "metadata": {},
   "source": [
    "[Python tutorial](https://docs.python.org/3/tutorial/) and [documentation](https://docs.python.org/3/).\n",
    "\n",
    "For help with Jupyter notebooks press `h` when not in edit mode for a cell or see the [documentation](https://jupyter-notebook.readthedocs.io/en/stable/)."
   ]
  },
  {
   "cell_type": "markdown",
   "metadata": {},
   "source": [
    "## Part 1: Text\n",
    "The `text.txt` file contains the opening sentences of Charles' Dickens novel *A Tale of Two Cities*. The code below will read the file, store it in a string variable `text`, and print the first 500 characters."
   ]
  },
  {
   "cell_type": "code",
   "execution_count": 1,
   "metadata": {
    "scrolled": true
   },
   "outputs": [
    {
     "name": "stdout",
     "output_type": "stream",
     "text": [
      "it was the best of times, it was the worst of times, it was the age of wisdom, it was the age of foolishness, it was the epoch of belief, it was the epoch of incredulity, it was the season of light, it was the season of darkness, it was the spring of hope, it was the winter of despair, we had everything before us, we had nothing before us, we were all going direct to heaven, we were all going direct the other way- in short, the period was so far like the present period, that some of its noisiest ...\n"
     ]
    }
   ],
   "source": [
    "f = open('text.txt')\n",
    "text = f.read()\n",
    "f.close()\n",
    "\n",
    "print(text[:500], '...')"
   ]
  },
  {
   "cell_type": "markdown",
   "metadata": {},
   "source": [
    "### Question\n",
    "Print the first and the last sentence of the text. You may assume sentences only end with a period (`'.'`).\n",
    "Python `split` method for strings: https://docs.python.org/3/library/stdtypes.html?highlight=split#str.split `sep='.'`."
   ]
  },
  {
   "cell_type": "code",
   "execution_count": 2,
   "metadata": {},
   "outputs": [
    {
     "name": "stdout",
     "output_type": "stream",
     "text": [
      "First Sentence:\n",
      "it was the best of times, it was the worst of times, it was the age of wisdom, it was the age of foolishness, it was the epoch of belief, it was the epoch of incredulity, it was the season of light, it was the season of darkness, it was the spring of hope, it was the winter of despair, we had everything before us, we had nothing before us, we were all going direct to heaven, we were all going direct the other way- in short, the period was so far like the present period, that some of its noisiest authorities insisted on its being received, for good or for evil, in the superlative degree of comparison only.\n",
      "\n",
      "\n",
      "Last Sentence:\n",
      "thus did the year one thousand seven hundred and seventy-five conduct their greatnesses, and myriads of small creatures-the creatures of this chronicle among the rest-along the roads that lay before them.\n"
     ]
    }
   ],
   "source": [
    "# Store all separate sentences into a list\n",
    "sentenceList = text.split(\".\")\n",
    "firstSentence = sentenceList[0]\n",
    "# Note that the last item is null so we take the -2th item\n",
    "lastSentence = sentenceList[-2]\n",
    "# We add a period (.) to replace the stripped period from .split()\n",
    "print(\"First Sentence:\\n\" + firstSentence + \".\")\n",
    "print(\"\\n\")\n",
    "# [1:] gets rid of the unnecessary space at the beginning\n",
    "print(\"Last Sentence:\\n\" + lastSentence[1:] + \".\")"
   ]
  },
  {
   "cell_type": "markdown",
   "metadata": {},
   "source": [
    "### Findings\n",
    "\n",
    "**First Sentence:**\n",
    "it was the best of times, it was the worst of times, it was the age of wisdom, it was the age of foolishness, it was the epoch of belief, it was the epoch of incredulity, it was the season of light, it was the season of darkness, it was the spring of hope, it was the winter of despair, we had everything before us, we had nothing before us, we were all going direct to heaven, we were all going direct the other way- in short, the period was so far like the present period, that some of its noisiest authorities insisted on its being received, for good or for evil, in the superlative degree of comparison only.\n",
    "\n",
    "**Last Sentence:**\n",
    "thus did the year one thousand seven hundred and seventy-five conduct their greatnesses, and myriads of small creatures-the creatures of this chronicle among the rest-along the roads that lay before them."
   ]
  },
  {
   "cell_type": "markdown",
   "metadata": {},
   "source": [
    "### Question\n",
    "How many total vowels (`a`, `e`, `i`, `o`, `u`) appear in the text?"
   ]
  },
  {
   "cell_type": "code",
   "execution_count": 3,
   "metadata": {},
   "outputs": [
    {
     "name": "stdout",
     "output_type": "stream",
     "text": [
      "{'a': 384, 'e': 581, 'i': 293, 'o': 354, 'u': 123}\n",
      "Total Vowels: 1735\n"
     ]
    }
   ],
   "source": [
    "# Code for question 2\n",
    "aCount = text.count(\"a\")\n",
    "eCount = text.count(\"e\")\n",
    "iCount = text.count(\"i\")\n",
    "oCount = text.count(\"o\")\n",
    "uCount = text.count(\"u\")\n",
    "vowelDict = {\"a\": aCount, \"e\": eCount, \"i\": iCount, \"o\": oCount, \"u\": uCount}\n",
    "print(vowelDict)\n",
    "vowelCount = sum(vowelDict.values())\n",
    "print(\"Total Vowels: %d\" %(vowelCount))"
   ]
  },
  {
   "cell_type": "markdown",
   "metadata": {},
   "source": [
    "### Findings\n",
    "Total Vowels: 1735"
   ]
  },
  {
   "cell_type": "markdown",
   "metadata": {},
   "source": [
    "### Question\n",
    "A trigram is a string of exactly 3 characters (or a string with length exactly 3), including blank spaces. For example, the first five trigrams in the text are:\n",
    "1. `'it '`\n",
    "2. `'t w'`\n",
    "3. `' wa'`\n",
    "4. `'was'`\n",
    "5. `'as '`\n",
    "\n",
    "What is the most common trigram in the text?   "
   ]
  },
  {
   "cell_type": "code",
   "execution_count": 3,
   "metadata": {},
   "outputs": [
    {
     "name": "stdout",
     "output_type": "stream",
     "text": [
      "The most common trigram in the text is ' th' with 136 appearances.\n"
     ]
    }
   ],
   "source": [
    "from collections import Counter\n",
    "# [idx:idx+3] iterates through every trigram in the string\n",
    "trigramFreq = dict(Counter(text[idx : idx + 3] for idx in range(len(text) - 1)))\n",
    "trigramKeys = list(trigramFreq.keys())\n",
    "trigramValues = list(trigramFreq.values())\n",
    "# The key corresponding to the maximum value\n",
    "maxKey = trigramKeys[trigramValues.index(max(trigramValues))]\n",
    "print(\"The most common trigram in the text is '%s' with %d appearances.\" %(maxKey, max(trigramValues)))"
   ]
  },
  {
   "cell_type": "markdown",
   "metadata": {},
   "source": [
    "### Findings\n",
    "The most common trigram in the text is ' th' with 136 appearances."
   ]
  },
  {
   "cell_type": "markdown",
   "metadata": {},
   "source": [
    "## Part 2: Rides\n",
    "\n",
    "The [boston.csv](boston.csv) file contains data on weekday Uber rides in the Boston, Massachusetts metropolitan areas from the [Uber Movement](https://movement.uber.com) project. The `sourceid` and `dstid` columns contain codes corresponding to start and end locations of each ride. The `hod` column contains codes corresponding to the hour of the day the ride took place. The `ride time` column contains the length of the ride, in minutes.\n",
    "\n",
    "The code below will open the file and read the data as a list of rows, with each row represented as a string. It then prints the first four rows. Note that the first (index 0) row contains the column headers. "
   ]
  },
  {
   "cell_type": "code",
   "execution_count": 4,
   "metadata": {},
   "outputs": [
    {
     "name": "stdout",
     "output_type": "stream",
     "text": [
      "sourceid,dstid,hod,ride time\n",
      "\n",
      "584,33,7,11.866000000000001\n",
      "\n",
      "1013,1116,13,17.799333333333333\n",
      "\n",
      "884,1190,22,19.348833333333335\n",
      "\n"
     ]
    }
   ],
   "source": [
    "f = open('boston.csv')\n",
    "data = f.readlines()\n",
    "f.close()\n",
    "\n",
    "for row in data[:4]:\n",
    "    print(row)"
   ]
  },
  {
   "cell_type": "markdown",
   "metadata": {},
   "source": [
    "### Question\n",
    "How many rides are listed in the the file?"
   ]
  },
  {
   "cell_type": "code",
   "execution_count": 5,
   "metadata": {},
   "outputs": [
    {
     "name": "stdout",
     "output_type": "stream",
     "text": [
      "200000\n"
     ]
    }
   ],
   "source": [
    "# Code for question 4\n",
    "rideCount = 0\n",
    "# Excludes first line (column headers)\n",
    "for row in data[1:]:\n",
    "    rideCount += 1\n",
    "print(rideCount)"
   ]
  },
  {
   "cell_type": "markdown",
   "metadata": {},
   "source": [
    "### Findings\n",
    "There are 20,000 rides listed in the file."
   ]
  },
  {
   "cell_type": "markdown",
   "metadata": {},
   "source": [
    "### Question\n",
    "What is the maximum length of a ride?"
   ]
  },
  {
   "cell_type": "code",
   "execution_count": 6,
   "metadata": {},
   "outputs": [
    {
     "name": "stdout",
     "output_type": "stream",
     "text": [
      "Maximum Length = 1471.986167\n"
     ]
    }
   ],
   "source": [
    "lengthList = []\n",
    "for row in data[1:]:\n",
    "    attributes = row.split(\",\")\n",
    "    lengthList.append(float(attributes[3]))\n",
    "maxLength = max(lengthList)\n",
    "print(\"Maximum Length = %f\" %(maxLength))"
   ]
  },
  {
   "cell_type": "markdown",
   "metadata": {},
   "source": [
    "### Findings\n",
    "The maximum length of a ride is 1471.986167 minutes."
   ]
  },
  {
   "cell_type": "markdown",
   "metadata": {},
   "source": [
    "### Question\n",
    "What is the average length of a ride?"
   ]
  },
  {
   "cell_type": "code",
   "execution_count": 8,
   "metadata": {},
   "outputs": [
    {
     "name": "stdout",
     "output_type": "stream",
     "text": [
      "Average Length = 16.502478\n"
     ]
    }
   ],
   "source": [
    "# Code for question 6\n",
    "import statistics\n",
    "avgLength = statistics.mean(lengthList)\n",
    "print(\"Average Length = %f\" %(avgLength))"
   ]
  },
  {
   "cell_type": "markdown",
   "metadata": {},
   "source": [
    "### Findings\n",
    "The average length of a ride is 16.502478 minutes."
   ]
  },
  {
   "cell_type": "markdown",
   "metadata": {},
   "source": [
    "### Question\n",
    "What percentage of rides are under 10 minutes?"
   ]
  },
  {
   "cell_type": "code",
   "execution_count": 7,
   "metadata": {},
   "outputs": [
    {
     "name": "stdout",
     "output_type": "stream",
     "text": [
      "0.22829\n"
     ]
    }
   ],
   "source": [
    "# Code for question 7\n",
    "underCount = 0\n",
    "for ride in lengthList:\n",
    "    if ride - 10 < 0:\n",
    "        underCount += 1\n",
    "underPercent = underCount / rideCount\n",
    "print(underPercent)"
   ]
  },
  {
   "cell_type": "markdown",
   "metadata": {},
   "source": [
    "### Findings\n",
    "22.829% of rides are under 10 minutes."
   ]
  },
  {
   "cell_type": "markdown",
   "metadata": {},
   "source": [
    "### Question\n",
    "For each HOD (hour of day), count how many rides take place during that hour."
   ]
  },
  {
   "cell_type": "code",
   "execution_count": 8,
   "metadata": {},
   "outputs": [
    {
     "name": "stdout",
     "output_type": "stream",
     "text": [
      "{3: 4296, 4: 4371, 5: 5343, 2: 5555, 1: 6568, 6: 7424, 0: 7600, 18: 8365, 11: 8755, 13: 8813, 12: 8885, 19: 8926, 10: 9053, 7: 9173, 23: 9258, 9: 9259, 8: 9510, 14: 9688, 15: 9748, 20: 9771, 22: 9863, 21: 9894, 16: 9930, 17: 9952}\n"
     ]
    }
   ],
   "source": [
    "# Code for question 8\n",
    "HODList = []\n",
    "for row in data[1:]:\n",
    "    attributes = row.split(\",\")\n",
    "    HODList.append(int(attributes[2]))\n",
    "from collections import Counter\n",
    "HODCounter = dict(Counter(HODList))\n",
    "print(dict(sorted(HODCounter.items(), key=lambda item: item[1])))"
   ]
  },
  {
   "cell_type": "markdown",
   "metadata": {},
   "source": [
    "### Findings\n",
    "The amount of rides that take place during each hour of day are shown below (in ascending order):\n",
    "\n",
    "{3: 4296, 4: 4371, 5: 5343, 2: 5555, 1: 6568, 6: 7424, 0: 7600, 18: 8365, 11: 8755, 13: 8813, 12: 8885, 19: 8926, 10: 9053, 7: 9173, 23: 9258, 9: 9259, 8: 9510, 14: 9688, 15: 9748, 20: 9771, 22: 9863, 21: 9894, 16: 9930, 17: 9952}"
   ]
  },
  {
   "cell_type": "markdown",
   "metadata": {},
   "source": [
    "### Question\n",
    "What are the three most common **start** locations (`sourceid`) for rides in the dataset? https://docs.python.org/3/howto/sorting.html."
   ]
  },
  {
   "cell_type": "code",
   "execution_count": 9,
   "metadata": {},
   "outputs": [],
   "source": [
    "sourceList = []\n",
    "for row in data[1:]:\n",
    "    attributes = row.split(\",\")\n",
    "    sourceList.append(int(attributes[0]))\n",
    "from collections import Counter\n",
    "sourceCounter = dict(Counter(sourceList))\n",
    "# reverse = True compiles a descending order\n",
    "sortedSourceCounter = dict(sorted(sourceCounter.items(), key=lambda item: item[1], reverse = True))"
   ]
  },
  {
   "cell_type": "markdown",
   "metadata": {},
   "source": [
    "### Findings\n",
    "The following are the three most common start locations along with their respective frequencies:\n",
    "\n",
    "1. 885: 1181 \n",
    "\n",
    "2. 498: 1067 \n",
    "\n",
    "3. 435: 1057"
   ]
  }
 ],
 "metadata": {
  "kernelspec": {
   "display_name": "Python 3",
   "language": "python",
   "name": "python3"
  },
  "language_info": {
   "codemirror_mode": {
    "name": "ipython",
    "version": 3
   },
   "file_extension": ".py",
   "mimetype": "text/x-python",
   "name": "python",
   "nbconvert_exporter": "python",
   "pygments_lexer": "ipython3",
   "version": "3.8.8"
  }
 },
 "nbformat": 4,
 "nbformat_minor": 4
}
