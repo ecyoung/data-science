{
 "cells": [
  {
   "cell_type": "markdown",
   "metadata": {},
   "source": [
    "# Numpy and Pandas 1"
   ]
  },
  {
   "cell_type": "markdown",
   "metadata": {},
   "source": [
    "[Numpy documentation](https://numpy.org/doc/stable/) \n",
    "[Pandas documentation](https://pandas.pydata.org/docs/user_guide/index.html)."
   ]
  },
  {
   "cell_type": "markdown",
   "metadata": {},
   "source": [
    "## Part 1: Numpy\n",
    "Official Numpy Quickstart [tutorial](https://numpy.org/doc/stable/user/quickstart.html)."
   ]
  },
  {
   "cell_type": "code",
   "execution_count": 1,
   "metadata": {},
   "outputs": [],
   "source": [
    "import numpy as np"
   ]
  },
  {
   "cell_type": "markdown",
   "metadata": {},
   "source": [
    "The code below generates a 10 by 10 numpy array of random integers between 0 and 100 (inclusive). \n",
    "\n",
    "### Questions\n",
    "1. The value at row index 2 and column index 1. \n",
    "2. The last value in the first row.\n",
    "3. The largest value overall.  \n",
    "4. All of the values in the first column.\n",
    "5. The average of the values in the first row.\n",
    "6. The minimum of the values in the last column.\n",
    "7. The average of the values in the first 5 rows and the first five columns.\n",
    "8. The five smallest values in the first row, in order from least to greatest.\n",
    "9. The minimum value of every row.\n",
    "10. The index of the column with the largest average value."
   ]
  },
  {
   "cell_type": "code",
   "execution_count": 2,
   "metadata": {},
   "outputs": [
    {
     "name": "stdout",
     "output_type": "stream",
     "text": [
      "[[44 47 64 67 67  9 83 21 36 87]\n",
      " [70 88 88 12 58 65 39 87 46 88]\n",
      " [81 37 25 77 72  9 20 80 69 79]\n",
      " [47 64 82 99 88 49 29 19 19 14]\n",
      " [39 32 65  9 57 32 31 74 23 35]\n",
      " [75 55 28 34  0  0 36 53  5 38]\n",
      " [17 79  4 42 58 31  1 65 41 57]\n",
      " [35 11 46 82 91  0 14 99 53 12]\n",
      " [42 84 75 68  6 68 47  3 76 52]\n",
      " [78 15 20 99 58 23 79 13 85 48]]\n"
     ]
    }
   ],
   "source": [
    "np.random.seed(0) # so you get the same results each time\n",
    "vals = np.random.randint(0, 100, (10,10)) # from 0 to 100, shape 100 by 100\n",
    "print(vals)"
   ]
  },
  {
   "cell_type": "code",
   "execution_count": 3,
   "metadata": {},
   "outputs": [
    {
     "name": "stdout",
     "output_type": "stream",
     "text": [
      "37\n",
      "87\n",
      "99\n",
      "[44 70 81 47 39 75 17 35 42 78]\n",
      "52.5\n",
      "12\n",
      "59.16\n",
      "[ 9 21 36 44 47]\n",
      "[ 9 12  9 14  9  0  1  0  3 13]\n",
      "3\n"
     ]
    }
   ],
   "source": [
    "# Write your code to answer Question 1 here\n",
    "# 1. The value at row index 2 and column index 1.\n",
    "print(vals[2,1])\n",
    "# 2. The last value in the first row.\n",
    "print(vals[0,-1])\n",
    "# 3. The largest value overall.\n",
    "print(np.max(vals))\n",
    "# 4. All of the values in the first column.\n",
    "print(vals[:,0])\n",
    "# 5. The average of the values in the first row.\n",
    "print(np.mean(vals[0,:]))\n",
    "# 6. The minimum of the values in the last column.\n",
    "print(np.min(vals[:,-1]))\n",
    "# 7. The average of the values in the first 5 rows and the first five columns.\n",
    "print(np.mean(vals[:5,:5]))\n",
    "# 8. The five smallest values in the first row, in order from least to greatest.\n",
    "print(np.sort(vals[0,:])[:5])\n",
    "# 9. The minimum value of every row.\n",
    "print(np.min(vals, axis=1))\n",
    "# 10. The index of the column with the largest average value.\n",
    "print(np.argmax(np.mean(vals, axis=0)))"
   ]
  },
  {
   "cell_type": "markdown",
   "metadata": {},
   "source": [
    "### Findings\n",
    "1. 37\n",
    "2. 87\n",
    "3. 99\n",
    "4. [44 70 81 47 39 75 17 35 42 78]\n",
    "5. 52.5\n",
    "6. 12\n",
    "7. 59.16\n",
    "8. [ 9 21 36 44 47]\n",
    "9. [ 9 12  9 14  9  0  1  0  3 13]\n",
    "10. 3"
   ]
  },
  {
   "cell_type": "markdown",
   "metadata": {},
   "source": [
    "The code below generates a random 2d numpy array `points` that contains 5 points, each of which has an x-value and a y-value. Each row corresponds to a point, the first column (column index 0) contains the x-value, and the second column (column index 1) contains the y-value. \n",
    "\n",
    "### Questions\n",
    "1. Two times every value in `points`\n",
    "2. The square of every x-value.\n",
    "3. The 0-centered y-values: Subtract the average over all y-values from every y-value.\n",
    "4. The average of the *positive* values in `points.`\n",
    "5. The points with x-values greater than their y-values.\n",
    "6. The magnitude of the first point. The magnitude of a point $(x, y)$ is it's Euclidean distance from the origin equal to $\\sqrt{x^2 + y^2}$. \n",
    "7. The Euclidean distance between the first and the second point. The Euclidean distance formula between two points $(x_1, y_1)$ and $(x_2, y_2)$ is $\\sqrt{(x_2-x_1)^2 + (y_2-y_1)^2}$.\n",
    "8. The Euclidean distance between the first point and all points (you may include the distance of 0 from the first point to itself)."
   ]
  },
  {
   "cell_type": "code",
   "execution_count": 4,
   "metadata": {},
   "outputs": [
    {
     "name": "stdout",
     "output_type": "stream",
     "text": [
      "[[ 1.76405235  0.40015721]\n",
      " [ 0.97873798  2.2408932 ]\n",
      " [ 1.86755799 -0.97727788]\n",
      " [ 0.95008842 -0.15135721]\n",
      " [-0.10321885  0.4105985 ]]\n"
     ]
    }
   ],
   "source": [
    "np.random.seed(0) # so you get the same results each time\n",
    "points = np.random.randn(5, 2) # draws values from standard normal distribution\n",
    "print(points)"
   ]
  },
  {
   "cell_type": "code",
   "execution_count": 5,
   "metadata": {},
   "outputs": [
    {
     "name": "stdout",
     "output_type": "stream",
     "text": [
      "[[ 3.52810469  0.80031442]\n",
      " [ 1.95747597  4.4817864 ]\n",
      " [ 3.73511598 -1.95455576]\n",
      " [ 1.90017684 -0.30271442]\n",
      " [-0.2064377   0.821197  ]]\n",
      "[3.11188068 0.95792804 3.48777285 0.902668   0.01065413]\n",
      "[ 0.01555444  1.85629043 -1.36188064 -0.53595997  0.02599574]\n",
      "1.230297949608002\n",
      "[[ 1.76405235  0.40015721]\n",
      " [ 1.86755799 -0.97727788]\n",
      " [ 0.95008842 -0.15135721]]\n",
      "1.8088688373462207\n",
      "2.001256514017904\n",
      "0.0\n",
      "2.001256514017904\n",
      "1.3813185152970122\n",
      "0.9832117923388141\n",
      "1.8673003900283605\n"
     ]
    }
   ],
   "source": [
    "# 1. Two times every value in points\n",
    "print(2*points)\n",
    "# 2. The square of every x-value.\n",
    "print(points[:,0]**2)\n",
    "# 3. The 0-centered y-values: Subtract the average over all y-values from every y-value.\n",
    "print(points[:,1]-np.mean(points[:,1]))\n",
    "# 4. The average of the positive values in points.\n",
    "print(np.mean(points[points>0]))\n",
    "# 5. The points with x-values greater than their y-values.\n",
    "print(points[points[:,0]>points[:,1]])\n",
    "# 6. The magnitude of the first point. \n",
    "print(np.sqrt(points[0,0]**2+points[0,1]**2))\n",
    "# 7. The Euclidean distance between the first and the second point.\n",
    "print(np.sqrt((points[0,0]-points[1,0])**2+(points[0,1]-points[1,1])**2))\n",
    "# 8. The Euclidean distance between the first point and all points (you may include the distance of 0 from the first point to itself).\n",
    "print(np.linalg.norm(points[0,:]-points[0,:]))\n",
    "print(np.linalg.norm(points[0,:]-points[1,:]))\n",
    "print(np.linalg.norm(points[0,:]-points[2,:]))\n",
    "print(np.linalg.norm(points[0,:]-points[3,:]))\n",
    "print(np.linalg.norm(points[0,:]-points[4,:]))"
   ]
  },
  {
   "cell_type": "markdown",
   "metadata": {},
   "source": [
    "### Findings\n",
    "1. [[ 3.52810469  0.80031442]\n",
    " [ 1.95747597  4.4817864 ]\n",
    " [ 3.73511598 -1.95455576]\n",
    " [ 1.90017684 -0.30271442]\n",
    " [-0.2064377   0.821197  ]]\n",
    "2. [3.11188068 0.95792804 3.48777285 0.902668   0.01065413]\n",
    "3. [ 0.01555444  1.85629043 -1.36188064 -0.53595997  0.02599574]\n",
    "4. 1.230297949608002\n",
    "5. [[ 1.76405235  0.40015721]\n",
    " [ 1.86755799 -0.97727788]\n",
    " [ 0.95008842 -0.15135721]]\n",
    "6. 1.8088688373462207\n",
    "7. 2.001256514017904\n",
    "8. - First point - first point: 0.0\n",
    "   - First point - second point: 2.001256514017904\n",
    "   - First point - third point: 1.3813185152970122\n",
    "   - First point - fourth point: 0.9832117923388141\n",
    "   - First point - fifth point: 1.8673003900283605"
   ]
  },
  {
   "cell_type": "markdown",
   "metadata": {},
   "source": [
    "## Part 2: Pandas\n",
    "*10 minutes to pandas* [tutorial](https://pandas.pydata.org/pandas-docs/stable/user_guide/10min.html)."
   ]
  },
  {
   "cell_type": "code",
   "execution_count": 6,
   "metadata": {},
   "outputs": [],
   "source": [
    "import pandas as pd"
   ]
  },
  {
   "cell_type": "markdown",
   "metadata": {},
   "source": [
    "The dataset `temp` imported below as a Pandas series shows temperature deviations (in Celsius) relative to the 1951-1980 average, courtesy of [NASA](https://climate.nasa.gov/vital-signs/global-temperature/). \n",
    "\n",
    "### Questions\n",
    "1. The temperature deviation in 1900?\n",
    "2. Temperature deviations for the last three years (most recent) for which there is data\n",
    "3. Temperature deviations for the last three years (most recent) for which there is data converted to Fahrenheit (temperature deviation in Fahrenheit is just 1.8 times the Celsius).\n",
    "4. The average temperature deviation since 1990 (including 1990).\n",
    "5. The number of years with positive temperature deviations.\n",
    "6. The number of those years with positive temperature deviations taking place since 1970 (including 1970).\n",
    "7. The five hottest years on record in the dataset."
   ]
  },
  {
   "cell_type": "code",
   "execution_count": 7,
   "metadata": {},
   "outputs": [
    {
     "name": "stdout",
     "output_type": "stream",
     "text": [
      "year\n",
      "1880   -0.16\n",
      "1881   -0.08\n",
      "1882   -0.10\n",
      "1883   -0.16\n",
      "1884   -0.28\n",
      "Name: temp_dev, dtype: float64\n"
     ]
    },
    {
     "data": {
      "text/plain": [
       "<AxesSubplot:xlabel='year'>"
      ]
     },
     "execution_count": 7,
     "metadata": {},
     "output_type": "execute_result"
    },
    {
     "data": {
      "image/png": "[encoded data removed]",
      "text/plain": [
       "<Figure size 432x288 with 1 Axes>"
      ]
     },
     "metadata": {
      "needs_background": "light"
     },
     "output_type": "display_data"
    }
   ],
   "source": [
    "temp = pd.read_csv(\"climate.csv\", index_col=0, squeeze=True)\n",
    "print(temp.head())\n",
    "temp.plot()"
   ]
  },
  {
   "cell_type": "code",
   "execution_count": 8,
   "metadata": {},
   "outputs": [
    {
     "name": "stdout",
     "output_type": "stream",
     "text": [
      "-0.07\n",
      "year\n",
      "2017    0.92\n",
      "2018    0.85\n",
      "2019    0.98\n",
      "Name: temp_dev, dtype: float64\n",
      "year\n",
      "2017    1.656\n",
      "2018    1.530\n",
      "2019    1.764\n",
      "Name: temp_dev, dtype: float64\n",
      "0.5923333333333335\n",
      "(61,)\n",
      "(46,)\n",
      "year\n",
      "2018    0.85\n",
      "2015    0.90\n",
      "2017    0.92\n",
      "2019    0.98\n",
      "2016    1.01\n",
      "Name: temp_dev, dtype: float64\n"
     ]
    }
   ],
   "source": [
    "# 1. The temperature deviation in 1900?\n",
    "print(temp[1900])\n",
    "# 2. Temperature deviations for the last three years (most recent) for which there is data\n",
    "print(temp[-3:])\n",
    "# 3. Temperature deviations for the last three years (most recent) for which there is data converted to Fahrenheit (temperature deviation in Fahrenheit is just 1.8 times the Celsius).\n",
    "print(1.8*temp[-3:])\n",
    "# 4. The average temperature deviation since 1990 (including 1990).\n",
    "print(temp.loc[1990:].mean())\n",
    "# 5. The number of years with positive temperature deviations.\n",
    "print(temp[temp>0].shape)\n",
    "# 6. The number of those years with positive temperature deviations taking place since 1970 (including 1970).\n",
    "print(temp.loc[1970:][temp>0].shape)\n",
    "# 7. The five hottest years on record in the dataset.\n",
    "print(temp.sort_values()[-5:])"
   ]
  },
  {
   "cell_type": "markdown",
   "metadata": {},
   "source": [
    "### Findings\n",
    "1. -0.07\n",
    "2. - 2017    0.92\n",
    "   - 2018    0.85\n",
    "   - 2019    0.98\n",
    "3. - 2017    1.656\n",
    "   - 2018    1.530\n",
    "   - 2019    1.764\n",
    "4. 0.5923333333333335\n",
    "5. 61\n",
    "6. 46\n",
    "7. 2016, 2019, 2017, 2015, 2018"
   ]
  },
  {
   "cell_type": "markdown",
   "metadata": {},
   "source": [
    "The dataset `df` imported below as a Pandas dataframe shows statistics about nations and the happiness of citizens from the United Nations [World Happiness Report](https://worldhappiness.report). \n",
    "\n",
    "### Questions\n",
    "1. All of the data corresponding to the Country name `United States`. \n",
    "2. All of the data corresponding to the country at row index 50.\n",
    "3. The average happiness score.\n",
    "4. The number of countries with `Happiness` scores greater than 6.\n",
    "5. The number of countries with `Log GDP per capita` less than 9.\n",
    "6. The number of countries with `Happiness` scores greater than 6 and Log GDP per capita less than 9."
   ]
  },
  {
   "cell_type": "code",
   "execution_count": 9,
   "metadata": {},
   "outputs": [
    {
     "data": {
      "text/html": [
       "<div>\n",
       "<style scoped>\n",
       "    .dataframe tbody tr th:only-of-type {\n",
       "        vertical-align: middle;\n",
       "    }\n",
       "\n",
       "    .dataframe tbody tr th {\n",
       "        vertical-align: top;\n",
       "    }\n",
       "\n",
       "    .dataframe thead th {\n",
       "        text-align: right;\n",
       "    }\n",
       "</style>\n",
       "<table border=\"1\" class=\"dataframe\">\n",
       "  <thead>\n",
       "    <tr style=\"text-align: right;\">\n",
       "      <th></th>\n",
       "      <th>Happiness</th>\n",
       "      <th>Log GDP per capita</th>\n",
       "      <th>Social support</th>\n",
       "      <th>Healthy life expectancy</th>\n",
       "      <th>Freedom to make life choices</th>\n",
       "      <th>Generosity</th>\n",
       "      <th>Perceptions of corruption</th>\n",
       "    </tr>\n",
       "    <tr>\n",
       "      <th>Country name</th>\n",
       "      <th></th>\n",
       "      <th></th>\n",
       "      <th></th>\n",
       "      <th></th>\n",
       "      <th></th>\n",
       "      <th></th>\n",
       "      <th></th>\n",
       "    </tr>\n",
       "  </thead>\n",
       "  <tbody>\n",
       "    <tr>\n",
       "      <th>Finland</th>\n",
       "      <td>7.8087</td>\n",
       "      <td>10.639267</td>\n",
       "      <td>0.954330</td>\n",
       "      <td>71.900825</td>\n",
       "      <td>0.949172</td>\n",
       "      <td>-0.059482</td>\n",
       "      <td>0.195445</td>\n",
       "    </tr>\n",
       "    <tr>\n",
       "      <th>Denmark</th>\n",
       "      <td>7.6456</td>\n",
       "      <td>10.774001</td>\n",
       "      <td>0.955991</td>\n",
       "      <td>72.402504</td>\n",
       "      <td>0.951444</td>\n",
       "      <td>0.066202</td>\n",
       "      <td>0.168489</td>\n",
       "    </tr>\n",
       "    <tr>\n",
       "      <th>Switzerland</th>\n",
       "      <td>7.5599</td>\n",
       "      <td>10.979933</td>\n",
       "      <td>0.942847</td>\n",
       "      <td>74.102448</td>\n",
       "      <td>0.921337</td>\n",
       "      <td>0.105911</td>\n",
       "      <td>0.303728</td>\n",
       "    </tr>\n",
       "    <tr>\n",
       "      <th>Iceland</th>\n",
       "      <td>7.5045</td>\n",
       "      <td>10.772559</td>\n",
       "      <td>0.974670</td>\n",
       "      <td>73.000000</td>\n",
       "      <td>0.948892</td>\n",
       "      <td>0.246944</td>\n",
       "      <td>0.711710</td>\n",
       "    </tr>\n",
       "    <tr>\n",
       "      <th>Norway</th>\n",
       "      <td>7.4880</td>\n",
       "      <td>11.087804</td>\n",
       "      <td>0.952487</td>\n",
       "      <td>73.200783</td>\n",
       "      <td>0.955750</td>\n",
       "      <td>0.134533</td>\n",
       "      <td>0.263218</td>\n",
       "    </tr>\n",
       "  </tbody>\n",
       "</table>\n",
       "</div>"
      ],
      "text/plain": [
       "              Happiness  Log GDP per capita  Social support  \\\n",
       "Country name                                                  \n",
       "Finland          7.8087           10.639267        0.954330   \n",
       "Denmark          7.6456           10.774001        0.955991   \n",
       "Switzerland      7.5599           10.979933        0.942847   \n",
       "Iceland          7.5045           10.772559        0.974670   \n",
       "Norway           7.4880           11.087804        0.952487   \n",
       "\n",
       "              Healthy life expectancy  Freedom to make life choices  \\\n",
       "Country name                                                          \n",
       "Finland                     71.900825                      0.949172   \n",
       "Denmark                     72.402504                      0.951444   \n",
       "Switzerland                 74.102448                      0.921337   \n",
       "Iceland                     73.000000                      0.948892   \n",
       "Norway                      73.200783                      0.955750   \n",
       "\n",
       "              Generosity  Perceptions of corruption  \n",
       "Country name                                         \n",
       "Finland        -0.059482                   0.195445  \n",
       "Denmark         0.066202                   0.168489  \n",
       "Switzerland     0.105911                   0.303728  \n",
       "Iceland         0.246944                   0.711710  \n",
       "Norway          0.134533                   0.263218  "
      ]
     },
     "execution_count": 9,
     "metadata": {},
     "output_type": "execute_result"
    }
   ],
   "source": [
    "df = pd.read_csv(\"happiness.csv\", index_col = \"Country name\")\n",
    "df.head()"
   ]
  },
  {
   "cell_type": "code",
   "execution_count": 10,
   "metadata": {},
   "outputs": [
    {
     "name": "stdout",
     "output_type": "stream",
     "text": [
      "Happiness                        6.939600\n",
      "Log GDP per capita              10.925769\n",
      "Social support                   0.914219\n",
      "Healthy life expectancy         68.299500\n",
      "Freedom to make life choices     0.842620\n",
      "Generosity                       0.149892\n",
      "Perceptions of corruption        0.699715\n",
      "Name: United States, dtype: float64\n",
      "Happiness                        6.021800\n",
      "Log GDP per capita              10.340017\n",
      "Social support                   0.934730\n",
      "Healthy life expectancy         68.604958\n",
      "Freedom to make life choices     0.877709\n",
      "Generosity                      -0.111698\n",
      "Perceptions of corruption        0.623074\n",
      "Name: Estonia, dtype: float64\n",
      "5.47323986284967\n",
      "(53, 7)\n",
      "(57, 7)\n",
      "(5, 7)\n"
     ]
    }
   ],
   "source": [
    "# 1. All of the data corresponding to the Country name United States.\n",
    "print(df.loc[\"United States\"])\n",
    "# 2. All of the data corresponding to the country at row index 50.\n",
    "print(df.iloc[50])\n",
    "# 3. The average happiness score.\n",
    "print(df.loc[:,\"Happiness\"].mean())\n",
    "# 4. The number of countries with Happiness scores greater than 6.\n",
    "print(df.loc[df.Happiness>6].shape)\n",
    "# 5. The number of countries with Log GDP per capita less than 9.\n",
    "print(df.loc[df.iloc[:,1]<9].shape)\n",
    "# 6. The number of countries with Happiness scores greater than 6 and Log GDP per capita less than 9.\n",
    "print(df.loc[(df.Happiness>6)&(df.iloc[:,1]<9)].shape)"
   ]
  },
  {
   "cell_type": "markdown",
   "metadata": {},
   "source": [
    "### Findings\n",
    "1. - Happiness                        6.939600\n",
    "   - Log GDP per capita              10.925769\n",
    "   - Social support                   0.914219\n",
    "   - Healthy life expectancy         68.299500\n",
    "   - Freedom to make life choices     0.842620\n",
    "   - Generosity                       0.149892\n",
    "   - Perceptions of corruption        0.699715\n",
    "2. - Happiness                        6.021800\n",
    "   - Log GDP per capita              10.340017\n",
    "   - Social support                   0.934730\n",
    "   - Healthy life expectancy         68.604958\n",
    "   - Freedom to make life choices     0.877709\n",
    "   - Generosity                      -0.111698\n",
    "   - Perceptions of corruption        0.623074\n",
    "3. 5.47323986284967\n",
    "4. 53\n",
    "5. 57\n",
    "6. 5"
   ]
  }
 ],
 "metadata": {
  "kernelspec": {
   "display_name": "Python 3",
   "language": "python",
   "name": "python3"
  },
  "language_info": {
   "codemirror_mode": {
    "name": "ipython",
    "version": 3
   },
   "file_extension": ".py",
   "mimetype": "text/x-python",
   "name": "python",
   "nbconvert_exporter": "python",
   "pygments_lexer": "ipython3",
   "version": "3.8.8"
  }
 },
 "nbformat": 4,
 "nbformat_minor": 4
}
